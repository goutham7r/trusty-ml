{
 "cells": [
  {
   "cell_type": "markdown",
   "metadata": {},
   "source": [
    "# Kernel LR Model"
   ]
  },
  {
   "cell_type": "code",
   "execution_count": 17,
   "metadata": {},
   "outputs": [],
   "source": [
    "import tensorflow as tf\n",
    "import numpy as np\n",
    "from sklearn.metrics.pairwise import rbf_kernel\n",
    "from tqdm import tqdm_notebook"
   ]
  },
  {
   "cell_type": "code",
   "execution_count": 18,
   "metadata": {},
   "outputs": [],
   "source": [
    "def predict(K, alpha):\n",
    "    pred = np.dot(K,alpha)\n",
    "    pred_proba = 1/(1+np.exp(-pred))\n",
    "    pred = np.sign(pred)\n",
    "    return pred"
   ]
  },
  {
   "cell_type": "code",
   "execution_count": null,
   "metadata": {},
   "outputs": [],
   "source": [
    "def predict_proba(K, alpha):\n",
    "    pred = np.dot(K,alpha)\n",
    "    pred_proba = 1/(1+np.exp(-pred))\n",
    "    return pred_proba"
   ]
  },
  {
   "cell_type": "code",
   "execution_count": 19,
   "metadata": {},
   "outputs": [],
   "source": [
    "g1 = tf.Graph()\n",
    "with g1.as_default():\n",
    "    lam_tf = tf.placeholder(tf.float32)\n",
    "    K_tf = tf.placeholder(tf.float32, [100, 100])\n",
    "    y_tf = tf.placeholder(tf.float32, [100,1])\n",
    "\n",
    "    alpha_tf = tf.Variable(tf.zeros((100,1)))\n",
    "\n",
    "    logistic_loss = tf.reduce_mean(-tf.log_sigmoid(y_tf*tf.matmul(K_tf, alpha_tf)))\n",
    "    reg_loss = 0.5*lam_tf*tf.matmul(tf.matmul(alpha_tf, K_tf, transpose_a = True),alpha_tf)\n",
    "    loss = logistic_loss + reg_loss\n",
    "    opt = tf.train.AdamOptimizer().minimize(loss)\n",
    "    init = tf.initializers.global_variables()"
   ]
  },
  {
   "cell_type": "code",
   "execution_count": 20,
   "metadata": {},
   "outputs": [],
   "source": [
    "g2 = tf.Graph()\n",
    "with g2.as_default():\n",
    "    lam_tf2 = tf.placeholder(tf.float32)\n",
    "    K_tf2 = tf.placeholder(tf.float32, [99, 99])\n",
    "    y_tf2 = tf.placeholder(tf.float32, [99,1])\n",
    "\n",
    "    alpha_tf2 = tf.Variable(tf.zeros((99,1)))\n",
    "\n",
    "    logistic_loss2 = tf.reduce_mean(-tf.log_sigmoid(y_tf2*tf.matmul(K_tf2, alpha_tf2)))\n",
    "    reg_loss2 = 0.5*lam_tf2*tf.matmul(tf.matmul(alpha_tf2, K_tf2, transpose_a = True),alpha_tf2)\n",
    "    loss2 = logistic_loss2 + reg_loss2\n",
    "    opt2 = tf.train.AdamOptimizer().minimize(loss2)\n",
    "    init2 = tf.initializers.global_variables()"
   ]
  },
  {
   "cell_type": "code",
   "execution_count": 21,
   "metadata": {
    "scrolled": true
   },
   "outputs": [],
   "source": [
    "def fit_model(K_train,y_train,lam,verbose=False):\n",
    "    n = K_train.shape[0]\n",
    "    \n",
    "    tf.reset_default_graph()\n",
    "    \n",
    "    if n==100:\n",
    "#         print(\"Graph 1\")\n",
    "        with tf.Session(graph=g1) as sess:\n",
    "            sess.run(init)\n",
    "\n",
    "            prevloss = np.inf\n",
    "            c = 0\n",
    "            while True:\n",
    "                _,al,ll,rl, l = sess.run([opt, alpha_tf, logistic_loss, reg_loss, loss], \n",
    "                            feed_dict={K_tf: K_train, y_tf:y_train, lam_tf: lam})\n",
    "                c += 1\n",
    "                if abs((prevloss - l)/l) < 1e-4:\n",
    "                    if verbose:\n",
    "                        print(\"Iterations for convergence:\",c, \"Loss: \", l)\n",
    "                    break\n",
    "    #             if c%1000==0:\n",
    "    #                 print(c, ll, rl, l, prevloss)\n",
    "\n",
    "                prevloss = l\n",
    "        \n",
    "    if n==99:\n",
    "#         print(\"Graph 2\")\n",
    "\n",
    "        with tf.Session(graph=g2) as sess:\n",
    "            sess.run(init2)\n",
    "\n",
    "            prevloss = np.inf\n",
    "            c = 0\n",
    "            while True:\n",
    "                _,al,ll,rl, l = sess.run([opt2, alpha_tf2, logistic_loss2, reg_loss2, loss2], \n",
    "                            feed_dict={K_tf2: K_train, y_tf2:y_train, lam_tf2: lam})\n",
    "                c += 1\n",
    "                if abs((prevloss - l)/l) < 1e-4:\n",
    "                    if verbose:\n",
    "                        print(\"Iterations for convergence:\",c, \"Loss: \", l)\n",
    "                    break\n",
    "    #             if c%1000==0:\n",
    "    #                 print(c, ll, rl, l, prevloss)\n",
    "\n",
    "                prevloss = l\n",
    "    \n",
    "    return al\n",
    "        \n",
    "        "
   ]
  },
  {
   "cell_type": "code",
   "execution_count": 22,
   "metadata": {},
   "outputs": [
    {
     "name": "stdout",
     "output_type": "stream",
     "text": [
      "Iterations for convergence: 973 Loss:  [[0.1664869]]\n"
     ]
    }
   ],
   "source": [
    "al = fit_model(K_train, y_train, lam, verbose=True)"
   ]
  },
  {
   "cell_type": "code",
   "execution_count": 23,
   "metadata": {},
   "outputs": [
    {
     "name": "stdout",
     "output_type": "stream",
     "text": [
      "(100, 1)\n"
     ]
    }
   ],
   "source": [
    "print(al.shape)\n",
    "a = [(i,al[i]) for i in range(len(al))]\n",
    "a.sort(key = lambda x: x[1], reverse=True)"
   ]
  },
  {
   "cell_type": "code",
   "execution_count": 24,
   "metadata": {
    "scrolled": false
   },
   "outputs": [
    {
     "data": {
      "text/plain": [
       "[(63, array([0.4906308], dtype=float32)),\n",
       " (55, array([0.4900435], dtype=float32)),\n",
       " (64, array([0.48284203], dtype=float32)),\n",
       " (65, array([0.43849814], dtype=float32)),\n",
       " (56, array([0.42166564], dtype=float32)),\n",
       " (73, array([0.4060342], dtype=float32)),\n",
       " (74, array([0.3869649], dtype=float32)),\n",
       " (54, array([0.38337046], dtype=float32)),\n",
       " (75, array([0.37316024], dtype=float32)),\n",
       " (66, array([0.3702452], dtype=float32))]"
      ]
     },
     "execution_count": 24,
     "metadata": {},
     "output_type": "execute_result"
    }
   ],
   "source": [
    "a[:10]"
   ]
  },
  {
   "cell_type": "code",
   "execution_count": 25,
   "metadata": {
    "scrolled": false
   },
   "outputs": [
    {
     "data": {
      "text/plain": [
       "1"
      ]
     },
     "execution_count": 25,
     "metadata": {},
     "output_type": "execute_result"
    }
   ],
   "source": [
    "pred, _ = predict(K_train, al)\n",
    "np.sum(pred != y_train)"
   ]
  },
  {
   "cell_type": "markdown",
   "metadata": {},
   "source": [
    "# experiments"
   ]
  },
  {
   "cell_type": "code",
   "execution_count": 26,
   "metadata": {},
   "outputs": [],
   "source": [
    "from sklearn.metrics import log_loss"
   ]
  },
  {
   "cell_type": "code",
   "execution_count": 27,
   "metadata": {},
   "outputs": [],
   "source": [
    "def custom_log_loss(y_true, y_proba):\n",
    "    return -np.mean(np.multiply(y_true, np.log(y_proba))+np.multiply(1-y_true, np.log(1-y_proba)))"
   ]
  },
  {
   "cell_type": "code",
   "execution_count": 29,
   "metadata": {},
   "outputs": [],
   "source": [
    "def calculate_influences_on_trust_flip(X_train, y_train, X_trust, y_trust, gamma, lam):\n",
    "    influences = []\n",
    "    \n",
    "    K = rbf_kernel(X_train, X_train, gamma=gamma)\n",
    "    K_trust = rbf_kernel(X_trust, X_train, gamma=gamma)\n",
    "    alpha = fit_model(K, y_train, lam)\n",
    "    \n",
    "    pred, probas = predict(K, alpha)\n",
    "    y_trust_pred, _ = predict(K_trust, alpha)\n",
    "    \n",
    "    l = []\n",
    "    for i in range(len(y_trust)):\n",
    "        if y_trust_pred[i] != y_trust[i]:\n",
    "            pass\n",
    "        l.append(i)\n",
    "        \n",
    "    X_trust_misclassified = X_trust[l]\n",
    "    y_trust_misclassified = y_trust[l]\n",
    "    K_trust_misclassified = K_trust[l]\n",
    "    _, trust_misclassified_proba = predict(K_trust_misclassified, alpha)\n",
    "    \n",
    "    orig_loss = custom_log_loss(y_trust_misclassified, trust_misclassified_proba)\n",
    "    \n",
    "    for i in tqdm_notebook(range(X_train.shape[0])):\n",
    "        y_train_mod = np.copy(y_train)\n",
    "        y_train_mod[i] = 0 if (y_train_mod[i]==1) else 1 # flip single label\n",
    "        \n",
    "        alpha_ = fit_model(K, y_train_mod, lam)\n",
    "        \n",
    "        y_trust_pred,_ = predict(K_trust, alpha_)\n",
    "        l = []\n",
    "        for j in range(len(y_trust)):\n",
    "            if y_trust_pred[j] != y_trust[j]:\n",
    "                pass\n",
    "            l.append(j)\n",
    "\n",
    "        X_trust_misclassified = X_trust[l]\n",
    "        y_trust_misclassified = y_trust[l]\n",
    "        K_trust_misclassified = rbf_kernel(X_trust_misclassified, X_train, gamma=gamma)\n",
    "        \n",
    "        _, trust_misclassified_proba = predict(K_trust_misclassified, alpha_)\n",
    "        mod_loss = custom_log_loss(y_trust_misclassified, trust_misclassified_proba)\n",
    "        \n",
    "#         print(y_trust[l],y_trust_misclassified,trust_misclassified_proba)\n",
    "        \n",
    "        influences.append((i, (orig_loss - mod_loss)))\n",
    "                \n",
    "    return influences"
   ]
  },
  {
   "cell_type": "code",
   "execution_count": 30,
   "metadata": {},
   "outputs": [
    {
     "data": {
      "application/vnd.jupyter.widget-view+json": {
       "model_id": "c3d782d7375e49f7b02fbbbd78f30aff",
       "version_major": 2,
       "version_minor": 0
      },
      "text/plain": [
       "HBox(children=(IntProgress(value=0), HTML(value='')))"
      ]
     },
     "metadata": {},
     "output_type": "display_data"
    },
    {
     "name": "stdout",
     "output_type": "stream",
     "text": [
      "\n"
     ]
    }
   ],
   "source": [
    "influences_flip_trust = calculate_influences_on_trust_flip(X_train, y_train, X_trust, y_trust, gamma, lam)"
   ]
  },
  {
   "cell_type": "code",
   "execution_count": 31,
   "metadata": {
    "scrolled": true
   },
   "outputs": [],
   "source": [
    "c = [(influences_flip_trust[i],X_train[i]) for i in range(len(influences_flip_trust))]\n",
    "c.sort(key=lambda x:x[0][1], reverse=True)"
   ]
  },
  {
   "cell_type": "code",
   "execution_count": 41,
   "metadata": {
    "scrolled": false
   },
   "outputs": [
    {
     "data": {
      "image/png": "[encoded data removed]",
      "text/plain": [
       "<Figure size 432x288 with 1 Axes>"
      ]
     },
     "metadata": {
      "needs_background": "light"
     },
     "output_type": "display_data"
    },
    {
     "data": {
      "image/png": "[encoded data removed]",
      "text/plain": [
       "<Figure size 432x288 with 1 Axes>"
      ]
     },
     "metadata": {
      "needs_background": "light"
     },
     "output_type": "display_data"
    }
   ],
   "source": [
    "n = 5\n",
    "top_n = True\n",
    "visualize_top_influential_points(X_train, y_train, influences_flip_trust, n, top_n, X_trust, y_trust, title='Flip, Inf=Change in trust error, Top')\n",
    "top_n = False\n",
    "visualize_top_influential_points(X_train, y_train, influences_flip_trust, n, top_n, X_trust, y_trust, title='Flip, Inf=Change in trust error, Bottom')"
   ]
  },
  {
   "cell_type": "markdown",
   "metadata": {},
   "source": [
    "# plotting"
   ]
  },
  {
   "cell_type": "markdown",
   "metadata": {},
   "source": [
    "Plotting clusters..."
   ]
  },
  {
   "cell_type": "code",
   "execution_count": 9,
   "metadata": {},
   "outputs": [],
   "source": [
    "import numpy as np\n",
    "import matplotlib.pyplot as plt\n",
    "from sklearn.linear_model import LogisticRegression\n",
    "from sklearn.metrics.pairwise import rbf_kernel"
   ]
  },
  {
   "cell_type": "code",
   "execution_count": 10,
   "metadata": {},
   "outputs": [],
   "source": [
    "def visualize_top_influential_points(X_train, y_train, influences, n, top_n=True, X_trust=None, y_trust=None, title=None):\n",
    "    if len(y_train.shape)==2:\n",
    "        y_train = np.reshape(y_train,(y_train.shape[0],))\n",
    "    \n",
    "    \n",
    "    influences.sort(key=lambda x:x[1], reverse=top_n)\n",
    "    top_influence_indices = [i[0] for i in influences[:n]]\n",
    "    \n",
    "    top_influence_X = X_train[top_influence_indices,:]\n",
    "    top_influence_y = y_train[top_influence_indices]\n",
    "    \n",
    "    plt.figure()\n",
    "    plt.scatter(X_train[:, 0], X_train[:, 1], c=y_train, cmap=plt.cm.Paired, marker='o')\n",
    "    \n",
    "    plt.scatter(top_influence_X[:, 0], top_influence_X[:, 1], marker='.')\n",
    "    \n",
    "    if X_trust is not None:\n",
    "        if len(y_trust.shape)==2:\n",
    "            y_trust = np.reshape(y_trust,(y_trust.shape[0],))\n",
    "        plt.scatter(X_trust[:, 0], X_trust[:, 1], c=y_trust, cmap=plt.cm.Paired, marker='*')\n",
    "    \n",
    "    if title:\n",
    "        plt.title(title)\n",
    "    plt.xlabel('Magical Heritage')\n",
    "    plt.ylabel('Education')\n",
    "    plt.xlim(0, 1)\n",
    "    plt.ylim(0, 1)\n",
    "    plt.draw()\n",
    "    plt.show()"
   ]
  },
  {
   "cell_type": "code",
   "execution_count": 11,
   "metadata": {},
   "outputs": [],
   "source": [
    "# ----------------------------------------\n",
    "# For plotting data and decision boundary\n",
    "def plot_model(X_train, y_train, clf, sigma, X_trust=None, y_trust=None, title=None, \n",
    "\t\t\t\t\t\t\t\t\t\t\t\t\ttrain_cluster_labels=None, trust_cluster_labels=None):\n",
    "\n",
    "\tX = np.zeros((10000,2))\n",
    "\ta = np.linspace(0,1,100)\n",
    "\tb = np.linspace(0,1,100)\n",
    "\te, d = np.meshgrid(a, b)\n",
    "\tX[:,0] = np.reshape(e,(10000,))\n",
    "\tX[:,1] = np.reshape(d,(10000,))\n",
    "\n",
    "\tK = rbf_kernel(X, X_train, gamma=(-1/(2.0*sigma**2)))\n",
    "\tZ = clf.predict(K)\n",
    "\tprobs = clf.predict_proba(K)[:, 1].reshape(e.shape)\n",
    "\n",
    "\tplt.figure()\n",
    "\n",
    "\t# Put the result into a color plot\n",
    "\tZ = Z.reshape(e.shape)\n",
    "\tplt.contour(e, d, probs, levels=[0.5])\n",
    "\n",
    "\t# Plot clusters\n",
    "\tif train_cluster_labels is not None:\n",
    "\t\tif trust_cluster_labels is not None:\n",
    "\t\t\tcluster_labels = np.concatenate([train_cluster_labels,trust_cluster_labels])\n",
    "\t\t\tX = np.vstack([X_train, X_trust])\n",
    "\t\t\tplt.scatter(X[:, 0], X[:, 1], c=cluster_labels, marker='o', s=80)\n",
    "\t\telse:\n",
    "\t\t\tplt.scatter(X_train[:, 0], X_train[:, 1], c=train_cluster_labels, marker='o', s=80)\n",
    "\n",
    "\t# Plot the training points\n",
    "\tplt.scatter(X_train[:, 0], X_train[:, 1], c=y_train, cmap=plt.cm.Paired, marker='.')\n",
    "\t\n",
    "\t# Plot the trusted points\n",
    "\tif X_trust is not None:\n",
    "\t\tplt.scatter(X_trust[:, 0], X_trust[:, 1], c=y_trust, cmap=plt.cm.Paired, marker='X')\n",
    "\n",
    "\tif title is not None:\n",
    "\t\tplt.title(str(title))\n",
    "\n",
    "\tplt.xlabel('Magical Heritage')\n",
    "\tplt.ylabel('Education')\n",
    "\tplt.xlim(0, 1)\n",
    "\tplt.ylim(0, 1)\n",
    "\tplt.draw()"
   ]
  },
  {
   "cell_type": "markdown",
   "metadata": {},
   "source": [
    "# HarryPotter"
   ]
  },
  {
   "cell_type": "code",
   "execution_count": 1,
   "metadata": {},
   "outputs": [],
   "source": [
    "import numpy as np\n",
    "from sklearn.metrics.pairwise import rbf_kernel"
   ]
  },
  {
   "cell_type": "code",
   "execution_count": 2,
   "metadata": {},
   "outputs": [],
   "source": [
    "# for reproducibility, fix the random seed \n",
    "np.random.seed(123)\n",
    "\n",
    "# the learner is hard coded to be kernel logistic regression.\n",
    "# learner's parameters:\n",
    "sigma = 0.4\t# RBF kernel bandwidth\n",
    "gamma = (1/(2.0*sigma**2))\n",
    "lam = 1e-3"
   ]
  },
  {
   "cell_type": "code",
   "execution_count": 3,
   "metadata": {},
   "outputs": [
    {
     "name": "stdout",
     "output_type": "stream",
     "text": [
      "Creating training data...\n",
      "\n"
     ]
    }
   ],
   "source": [
    "################### Harry Potter Toy Example ##################\n",
    "\n",
    "# ----------------------------------------\n",
    "# Generate \"dirty\" training data. \n",
    "# that is, we will plant some \"historical bias\" \n",
    "# in the form of labels: the Ministry of Magic refused to hire\n",
    "# muggle-born graduates with high edcuation.\n",
    "\n",
    "print(\"Creating training data...\\n\")\n",
    "\n",
    "# Training Set size\n",
    "n = 100 \n",
    "\n",
    "# data points are on a uniform grid, then dithered with a Gaussian.\n",
    "# x_1=magic heritage; x_2=education\n",
    "\n",
    "X_train = np.zeros((n,2))\n",
    "a = np.linspace(0.05, 0.95, num=int(np.sqrt(n)))\n",
    "e, d = np.meshgrid(a, a)\n",
    "X_train[:,0] = np.reshape(e,(n,))\n",
    "X_train[:,1] = np.reshape(d,(n,))\n",
    "X_train = X_train + 0.03*np.random.rand(n,2)\n",
    "\n",
    "# the noiseless 'desired' label obeys y = sign(x_2 - 0.5)\n",
    "y_clean = np.sign(X_train[:,1]-0.5)\n",
    "y_clean = np.reshape(y_clean,(y_clean.shape[0],1))\n",
    "# print(y_clean)\n",
    "\n",
    "y_train = np.copy(y_clean)\n",
    "y_train[(X_train[:,1]<(4*(X_train[:,0]-0.5)**2+0.5)) & (X_train[:,0]<0.5)] = -1\n",
    "# print(y_train-y_clean)"
   ]
  },
  {
   "cell_type": "code",
   "execution_count": 4,
   "metadata": {},
   "outputs": [
    {
     "name": "stdout",
     "output_type": "stream",
     "text": [
      "Creating trusted data...\n",
      "\n"
     ]
    }
   ],
   "source": [
    "# --------------------------------------------------------------\n",
    "# Generate trusted data\n",
    "# we manually picked these two trusted items for pedagogical purpose\n",
    "print(\"Creating trusted data...\\n\")\n",
    "\n",
    "X_trust = np.array([[0.3, 0.4],[0.2, 0.6]])\n",
    "y_trust = np.sign(X_trust[:,1]-0.5)\n",
    "y_trust = np.reshape(y_trust,(y_trust.shape[0],1))\n",
    "m = y_trust.shape[0]\n",
    "c_value = 100  # Confidence parameters on trusted items are set to 100.\n",
    "c = c_value*np.ones((m,1))"
   ]
  },
  {
   "cell_type": "code",
   "execution_count": 5,
   "metadata": {},
   "outputs": [],
   "source": [
    "# y[y==-1] = 0\n",
    "# y_tilde[y_tilde==-1] = 0"
   ]
  },
  {
   "cell_type": "code",
   "execution_count": 6,
   "metadata": {
    "scrolled": true
   },
   "outputs": [
    {
     "name": "stdout",
     "output_type": "stream",
     "text": [
      "(100, 2) (100, 1) (2, 2) (2, 1)\n"
     ]
    }
   ],
   "source": [
    "print(X_train.shape, y_train.shape, X_trust.shape, y_trust.shape)"
   ]
  },
  {
   "cell_type": "code",
   "execution_count": 7,
   "metadata": {},
   "outputs": [],
   "source": [
    "K_train = rbf_kernel(X_train, X_train, gamma)\n",
    "K_trust = rbf_kernel(X_trust, X_train, gamma)"
   ]
  },
  {
   "cell_type": "code",
   "execution_count": 8,
   "metadata": {},
   "outputs": [
    {
     "name": "stdout",
     "output_type": "stream",
     "text": [
      "(100, 100) (2, 100)\n"
     ]
    }
   ],
   "source": [
    "print(K_train.shape,K_trust.shape)"
   ]
  },
  {
   "cell_type": "code",
   "execution_count": null,
   "metadata": {},
   "outputs": [],
   "source": []
  }
 ],
 "metadata": {
  "kernelspec": {
   "display_name": "Python 3",
   "language": "python",
   "name": "python3"
  },
  "language_info": {
   "codemirror_mode": {
    "name": "ipython",
    "version": 3
   },
   "file_extension": ".py",
   "mimetype": "text/x-python",
   "name": "python",
   "nbconvert_exporter": "python",
   "pygments_lexer": "ipython3",
   "version": "3.6.1"
  }
 },
 "nbformat": 4,
 "nbformat_minor": 2
}
