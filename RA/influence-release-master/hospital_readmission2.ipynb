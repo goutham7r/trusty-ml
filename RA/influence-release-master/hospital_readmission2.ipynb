{
 "cells": [
  {
   "cell_type": "code",
   "execution_count": 12,
   "metadata": {},
   "outputs": [],
   "source": [
    "import functions, datasets"
   ]
  },
  {
   "cell_type": "code",
   "execution_count": 13,
   "metadata": {},
   "outputs": [],
   "source": [
    "from sklearn.tree import DecisionTreeClassifier\n",
    "from sklearn.linear_model import LogisticRegression\n",
    "from sklearn.naive_bayes import GaussianNB\n",
    "from sklearn.neighbors import KNeighborsClassifier\n",
    "from sklearn.neural_network import MLPClassifier\n",
    "from sklearn.svm import SVC\n",
    "import numpy as np\n",
    "import matplotlib.pyplot as plt"
   ]
  },
  {
   "cell_type": "code",
   "execution_count": 14,
   "metadata": {},
   "outputs": [],
   "source": [
    "from __future__ import division\n",
    "from __future__ import print_function\n",
    "from __future__ import absolute_import\n",
    "from __future__ import unicode_literals  "
   ]
  },
  {
   "cell_type": "code",
   "execution_count": 15,
   "metadata": {},
   "outputs": [
    {
     "name": "stdout",
     "output_type": "stream",
     "text": [
      "The autoreload extension is already loaded. To reload it, use:\n",
      "  %reload_ext autoreload\n"
     ]
    }
   ],
   "source": [
    "%matplotlib inline\n",
    "%load_ext autoreload\n",
    "%autoreload 2\n",
    "\n",
    "import math\n",
    "import numpy as np\n",
    "import pandas as pd\n",
    "import seaborn as sns\n",
    "import matplotlib.pyplot as plt\n",
    "import sklearn.linear_model as linear_model\n",
    "\n",
    "import scipy\n",
    "import sklearn\n",
    "\n",
    "sns.set(color_codes=True)\n",
    "\n",
    "import tensorflow as tf\n",
    "from tensorflow.contrib.learn.python.learn.datasets import base\n",
    "\n",
    "from influence.binaryLogisticRegressionWithLBFGS import BinaryLogisticRegressionWithLBFGS\n",
    "from influence.smooth_hinge import SmoothHinge\n",
    "import influence.dataset as dataset\n",
    "from influence.dataset import DataSet\n",
    "\n",
    "np.random.seed(42)"
   ]
  },
  {
   "cell_type": "code",
   "execution_count": 16,
   "metadata": {},
   "outputs": [],
   "source": [
    "def examine_vec(x, verbose=False):\n",
    "    assert len(feature_names) == len(x)\n",
    "    print('Age: %s' % x[age_var_indices])\n",
    "    if verbose:\n",
    "        for feature_name, val in zip(feature_names, x):\n",
    "            print('%32s: %.6f' % (feature_name, val))\n",
    "    \n",
    "def examine_train_point(idx, verbose=False):\n",
    "    print('Label: %s' % Y_train[idx])\n",
    "    examine_vec(modified_X_train[idx, :], verbose)\n",
    "    \n",
    "def examine_test_point(idx, verbose=False):\n",
    "    print('Label: %s' % Y_test[idx])\n",
    "    examine_vec(X_test[idx, :], verbose)"
   ]
  },
  {
   "cell_type": "markdown",
   "metadata": {},
   "source": [
    "# Read and process dataset"
   ]
  },
  {
   "cell_type": "code",
   "execution_count": 17,
   "metadata": {},
   "outputs": [],
   "source": [
    "df = pd.read_csv('diabetic_data.csv')\n",
    "# Use this if you are not running this in CodaLab\n",
    "# df = pd.read_csv('../data/diabetic_data.csv')"
   ]
  },
  {
   "cell_type": "code",
   "execution_count": 18,
   "metadata": {
    "scrolled": false
   },
   "outputs": [
    {
     "data": {
      "text/html": [
       "<div>\n",
       "<style scoped>\n",
       "    .dataframe tbody tr th:only-of-type {\n",
       "        vertical-align: middle;\n",
       "    }\n",
       "\n",
       "    .dataframe tbody tr th {\n",
       "        vertical-align: top;\n",
       "    }\n",
       "\n",
       "    .dataframe thead th {\n",
       "        text-align: right;\n",
       "    }\n",
       "</style>\n",
       "<table border=\"1\" class=\"dataframe\">\n",
       "  <thead>\n",
       "    <tr style=\"text-align: right;\">\n",
       "      <th></th>\n",
       "      <th>encounter_id</th>\n",
       "      <th>patient_nbr</th>\n",
       "      <th>race</th>\n",
       "      <th>gender</th>\n",
       "      <th>age</th>\n",
       "      <th>weight</th>\n",
       "      <th>admission_type_id</th>\n",
       "      <th>discharge_disposition_id</th>\n",
       "      <th>admission_source_id</th>\n",
       "      <th>time_in_hospital</th>\n",
       "      <th>...</th>\n",
       "      <th>citoglipton</th>\n",
       "      <th>insulin</th>\n",
       "      <th>glyburide-metformin</th>\n",
       "      <th>glipizide-metformin</th>\n",
       "      <th>glimepiride-pioglitazone</th>\n",
       "      <th>metformin-rosiglitazone</th>\n",
       "      <th>metformin-pioglitazone</th>\n",
       "      <th>change</th>\n",
       "      <th>diabetesMed</th>\n",
       "      <th>readmitted</th>\n",
       "    </tr>\n",
       "  </thead>\n",
       "  <tbody>\n",
       "    <tr>\n",
       "      <th>0</th>\n",
       "      <td>2278392</td>\n",
       "      <td>8222157</td>\n",
       "      <td>Caucasian</td>\n",
       "      <td>Female</td>\n",
       "      <td>[0-10)</td>\n",
       "      <td>?</td>\n",
       "      <td>6</td>\n",
       "      <td>25</td>\n",
       "      <td>1</td>\n",
       "      <td>1</td>\n",
       "      <td>...</td>\n",
       "      <td>No</td>\n",
       "      <td>No</td>\n",
       "      <td>No</td>\n",
       "      <td>No</td>\n",
       "      <td>No</td>\n",
       "      <td>No</td>\n",
       "      <td>No</td>\n",
       "      <td>No</td>\n",
       "      <td>No</td>\n",
       "      <td>NO</td>\n",
       "    </tr>\n",
       "    <tr>\n",
       "      <th>1</th>\n",
       "      <td>149190</td>\n",
       "      <td>55629189</td>\n",
       "      <td>Caucasian</td>\n",
       "      <td>Female</td>\n",
       "      <td>[10-20)</td>\n",
       "      <td>?</td>\n",
       "      <td>1</td>\n",
       "      <td>1</td>\n",
       "      <td>7</td>\n",
       "      <td>3</td>\n",
       "      <td>...</td>\n",
       "      <td>No</td>\n",
       "      <td>Up</td>\n",
       "      <td>No</td>\n",
       "      <td>No</td>\n",
       "      <td>No</td>\n",
       "      <td>No</td>\n",
       "      <td>No</td>\n",
       "      <td>Ch</td>\n",
       "      <td>Yes</td>\n",
       "      <td>&gt;30</td>\n",
       "    </tr>\n",
       "    <tr>\n",
       "      <th>2</th>\n",
       "      <td>64410</td>\n",
       "      <td>86047875</td>\n",
       "      <td>AfricanAmerican</td>\n",
       "      <td>Female</td>\n",
       "      <td>[20-30)</td>\n",
       "      <td>?</td>\n",
       "      <td>1</td>\n",
       "      <td>1</td>\n",
       "      <td>7</td>\n",
       "      <td>2</td>\n",
       "      <td>...</td>\n",
       "      <td>No</td>\n",
       "      <td>No</td>\n",
       "      <td>No</td>\n",
       "      <td>No</td>\n",
       "      <td>No</td>\n",
       "      <td>No</td>\n",
       "      <td>No</td>\n",
       "      <td>No</td>\n",
       "      <td>Yes</td>\n",
       "      <td>NO</td>\n",
       "    </tr>\n",
       "    <tr>\n",
       "      <th>3</th>\n",
       "      <td>500364</td>\n",
       "      <td>82442376</td>\n",
       "      <td>Caucasian</td>\n",
       "      <td>Male</td>\n",
       "      <td>[30-40)</td>\n",
       "      <td>?</td>\n",
       "      <td>1</td>\n",
       "      <td>1</td>\n",
       "      <td>7</td>\n",
       "      <td>2</td>\n",
       "      <td>...</td>\n",
       "      <td>No</td>\n",
       "      <td>Up</td>\n",
       "      <td>No</td>\n",
       "      <td>No</td>\n",
       "      <td>No</td>\n",
       "      <td>No</td>\n",
       "      <td>No</td>\n",
       "      <td>Ch</td>\n",
       "      <td>Yes</td>\n",
       "      <td>NO</td>\n",
       "    </tr>\n",
       "    <tr>\n",
       "      <th>4</th>\n",
       "      <td>16680</td>\n",
       "      <td>42519267</td>\n",
       "      <td>Caucasian</td>\n",
       "      <td>Male</td>\n",
       "      <td>[40-50)</td>\n",
       "      <td>?</td>\n",
       "      <td>1</td>\n",
       "      <td>1</td>\n",
       "      <td>7</td>\n",
       "      <td>1</td>\n",
       "      <td>...</td>\n",
       "      <td>No</td>\n",
       "      <td>Steady</td>\n",
       "      <td>No</td>\n",
       "      <td>No</td>\n",
       "      <td>No</td>\n",
       "      <td>No</td>\n",
       "      <td>No</td>\n",
       "      <td>Ch</td>\n",
       "      <td>Yes</td>\n",
       "      <td>NO</td>\n",
       "    </tr>\n",
       "  </tbody>\n",
       "</table>\n",
       "<p>5 rows × 50 columns</p>\n",
       "</div>"
      ],
      "text/plain": [
       "   encounter_id  patient_nbr             race  gender      age weight  \\\n",
       "0       2278392      8222157        Caucasian  Female   [0-10)      ?   \n",
       "1        149190     55629189        Caucasian  Female  [10-20)      ?   \n",
       "2         64410     86047875  AfricanAmerican  Female  [20-30)      ?   \n",
       "3        500364     82442376        Caucasian    Male  [30-40)      ?   \n",
       "4         16680     42519267        Caucasian    Male  [40-50)      ?   \n",
       "\n",
       "   admission_type_id  discharge_disposition_id  admission_source_id  \\\n",
       "0                  6                        25                    1   \n",
       "1                  1                         1                    7   \n",
       "2                  1                         1                    7   \n",
       "3                  1                         1                    7   \n",
       "4                  1                         1                    7   \n",
       "\n",
       "   time_in_hospital  ... citoglipton insulin  glyburide-metformin  \\\n",
       "0                 1  ...          No      No                   No   \n",
       "1                 3  ...          No      Up                   No   \n",
       "2                 2  ...          No      No                   No   \n",
       "3                 2  ...          No      Up                   No   \n",
       "4                 1  ...          No  Steady                   No   \n",
       "\n",
       "   glipizide-metformin  glimepiride-pioglitazone  metformin-rosiglitazone  \\\n",
       "0                   No                        No                       No   \n",
       "1                   No                        No                       No   \n",
       "2                   No                        No                       No   \n",
       "3                   No                        No                       No   \n",
       "4                   No                        No                       No   \n",
       "\n",
       "   metformin-pioglitazone  change diabetesMed readmitted  \n",
       "0                      No      No          No         NO  \n",
       "1                      No      Ch         Yes        >30  \n",
       "2                      No      No         Yes         NO  \n",
       "3                      No      Ch         Yes         NO  \n",
       "4                      No      Ch         Yes         NO  \n",
       "\n",
       "[5 rows x 50 columns]"
      ]
     },
     "execution_count": 18,
     "metadata": {},
     "output_type": "execute_result"
    }
   ],
   "source": [
    "df.head()"
   ]
  },
  {
   "cell_type": "code",
   "execution_count": 19,
   "metadata": {},
   "outputs": [],
   "source": [
    "# Convert categorical variables into numeric ones\n",
    "\n",
    "X = pd.DataFrame()\n",
    "\n",
    "# Numerical variables that we can pull directly\n",
    "X = df.loc[\n",
    "    :, \n",
    "    [\n",
    "        'time_in_hospital',\n",
    "        'num_lab_procedures',\n",
    "        'num_procedures',\n",
    "        'num_medications',\n",
    "        'number_outpatient',\n",
    "        'number_emergency',\n",
    "        'number_inpatient',\n",
    "        'number_diagnoses'\n",
    "    ]]\n",
    "\n",
    "categorical_var_names = [\n",
    "    'gender',\n",
    "    'race',\n",
    "    'age', \n",
    "    'discharge_disposition_id',\n",
    "    'max_glu_serum',\n",
    "    'A1Cresult',\n",
    "    'metformin',\n",
    "    'repaglinide',\n",
    "    'nateglinide',\n",
    "    'chlorpropamide',\n",
    "    'glimepiride',\n",
    "    'acetohexamide',\n",
    "    'glipizide',\n",
    "    'glyburide',\n",
    "    'tolbutamide',\n",
    "    'pioglitazone',\n",
    "    'rosiglitazone',\n",
    "    'acarbose',\n",
    "    'miglitol',\n",
    "    'troglitazone',\n",
    "    'tolazamide',\n",
    "    'examide',\n",
    "    'citoglipton',\n",
    "    'insulin',\n",
    "    'glyburide-metformin',\n",
    "    'glipizide-metformin',\n",
    "    'glimepiride-pioglitazone',\n",
    "    'metformin-rosiglitazone',\n",
    "    'metformin-pioglitazone',\n",
    "    'change',\n",
    "    'diabetesMed'\n",
    "]\n",
    "for categorical_var_name in categorical_var_names:\n",
    "    categorical_var = pd.Categorical(\n",
    "        df.loc[:, categorical_var_name])\n",
    "    \n",
    "    # Just have one dummy variable if it's boolean\n",
    "    if len(categorical_var.categories) == 2:\n",
    "        drop_first = True\n",
    "    else:\n",
    "        drop_first = False\n",
    "\n",
    "    dummies = pd.get_dummies(\n",
    "        categorical_var, \n",
    "        prefix=categorical_var_name,\n",
    "        drop_first=drop_first)\n",
    "    \n",
    "    X = pd.concat([X, dummies], axis=1)"
   ]
  },
  {
   "cell_type": "code",
   "execution_count": 20,
   "metadata": {},
   "outputs": [],
   "source": [
    "### Set the Y labels\n",
    "readmitted = pd.Categorical(df.readmitted)\n",
    "\n",
    "Y = np.copy(readmitted.codes)\n",
    "\n",
    "# Combine >30 and 0 and flip labels, so 1 (>30) and 2 (No) become -1, while 0 becomes 1\n",
    "Y[Y >= 1] = -1\n",
    "Y[Y == 0] = 1\n",
    "\n",
    "# Map to feature names\n",
    "feature_names = X.columns.values\n",
    "\n",
    "### Find indices of age features\n",
    "age_var = pd.Categorical(df.loc[:, 'age'])\n",
    "age_var_names = ['age_%s' % age_var_name for age_var_name in age_var.categories]    \n",
    "age_var_indices = []\n",
    "for age_var_name in age_var_names:\n",
    "    age_var_indices.append(np.where(X.columns.values == age_var_name)[0][0])\n",
    "age_var_indices = np.array(age_var_indices, dtype=int)"
   ]
  },
  {
   "cell_type": "code",
   "execution_count": 21,
   "metadata": {},
   "outputs": [],
   "source": [
    "### Split into training and test sets. \n",
    "# For convenience, we balance the training set to have 10k positives and 10k negatives.\n",
    "\n",
    "np.random.seed(2)\n",
    "num_examples = len(Y)\n",
    "assert X.shape[0] == num_examples\n",
    "num_train_examples = 20000\n",
    "num_train_examples_per_class = int(num_train_examples / 2)\n",
    "num_test_examples = num_examples - num_train_examples\n",
    "assert num_test_examples > 0\n",
    "\n",
    "pos_idx = np.where(Y == 1)[0]\n",
    "neg_idx = np.where(Y == -1)[0]\n",
    "np.random.shuffle(pos_idx)\n",
    "np.random.shuffle(neg_idx)\n",
    "assert len(pos_idx) + len(neg_idx) == num_examples\n",
    "\n",
    "train_idx = np.concatenate((pos_idx[:num_train_examples_per_class], neg_idx[:num_train_examples_per_class]))\n",
    "test_idx = np.concatenate((pos_idx[num_train_examples_per_class:], neg_idx[num_train_examples_per_class:]))\n",
    "np.random.shuffle(train_idx)\n",
    "np.random.shuffle(test_idx)\n",
    "\n",
    "X_train = np.array(X.iloc[train_idx, :], dtype=np.float32)\n",
    "Y_train = Y[train_idx]\n",
    "\n",
    "X_test = np.array(X.iloc[test_idx, :], dtype=np.float32)\n",
    "Y_test = Y[test_idx]\n",
    "\n",
    "train = DataSet(X_train, Y_train)\n",
    "validation = None\n",
    "test = DataSet(X_test, Y_test)\n",
    "data_sets = base.Datasets(train=train, validation=validation, test=test)\n",
    "\n",
    "lr_train = DataSet(X_train, np.array((Y_train + 1) / 2, dtype=int))\n",
    "lr_validation = None\n",
    "lr_test = DataSet(X_test, np.array((Y_test + 1) / 2, dtype=int))\n",
    "lr_data_sets = base.Datasets(train=lr_train, validation=lr_validation, test=lr_test)\n",
    "\n",
    "test_children_idx = np.where(X_test[:, age_var_indices[0]] == 1)[0]"
   ]
  },
  {
   "cell_type": "code",
   "execution_count": 22,
   "metadata": {},
   "outputs": [
    {
     "data": {
      "text/plain": [
       "((20000, 127), (20000,), (81766, 127), (81766,))"
      ]
     },
     "execution_count": 22,
     "metadata": {},
     "output_type": "execute_result"
    }
   ],
   "source": [
    "y_train = Y_train\n",
    "y_test = Y_test\n",
    "X_train.shape, y_train.shape, X_test.shape, y_test.shape"
   ]
  },
  {
   "cell_type": "code",
   "execution_count": 36,
   "metadata": {},
   "outputs": [],
   "source": [
    "num_train_examples = X_train.shape[0]\n",
    "input_dim = X_train.shape[1]\n",
    "weight_decay = 0.0001\n",
    "batch_size = 100\n",
    "initial_learning_rate = 0.001 \n",
    "keep_probs = None\n",
    "decay_epochs = [1000, 10000]\n",
    "max_lbfgs_iter = 10000\n",
    "use_bias = True\n",
    "\n",
    "C_minus_one = 1.0 / ((num_train_examples - 1) * weight_decay)\n",
    "clf = LogisticRegression(\n",
    "    C=C_minus_one,\n",
    "    tol=1e-8,\n",
    "    fit_intercept=False, \n",
    "    solver='lbfgs',\n",
    "    multi_class='multinomial',\n",
    "    warm_start=True, #True\n",
    "    max_iter=max_lbfgs_iter)  "
   ]
  },
  {
   "cell_type": "code",
   "execution_count": 37,
   "metadata": {},
   "outputs": [
    {
     "data": {
      "text/plain": [
       "LogisticRegression(C=0.5000250012500626, class_weight=None, dual=False,\n",
       "          fit_intercept=False, intercept_scaling=1, max_iter=10000,\n",
       "          multi_class='multinomial', n_jobs=None, penalty='l2',\n",
       "          random_state=None, solver='lbfgs', tol=1e-08, verbose=0,\n",
       "          warm_start=True)"
      ]
     },
     "execution_count": 37,
     "metadata": {},
     "output_type": "execute_result"
    }
   ],
   "source": [
    "clf.fit(X_train, y_train)"
   ]
  },
  {
   "cell_type": "code",
   "execution_count": 41,
   "metadata": {},
   "outputs": [],
   "source": [
    "y_test = Y_test"
   ]
  },
  {
   "cell_type": "code",
   "execution_count": 43,
   "metadata": {
    "scrolled": true
   },
   "outputs": [
    {
     "name": "stdout",
     "output_type": "stream",
     "text": [
      "Train Accuracy: 0.6242\n",
      "Test Accuracy: 0.6803561382481715\n"
     ]
    }
   ],
   "source": [
    "y_train_pred = clf.predict(X_train)\n",
    "wrong = np.zeros(y_train.shape)\n",
    "wrong[y_train!=y_train_pred] = 1\n",
    "acc = 1 - np.count_nonzero(y_train-y_train_pred)/y_train.shape[0]\n",
    "print(\"Train Accuracy:\",acc)\n",
    "\n",
    "y_test_pred = clf.predict(X_test)\n",
    "test_wrong = np.zeros(y_test.shape)\n",
    "test_wrong[y_test!=y_test_pred] = 1\n",
    "test_acc = 1 - np.count_nonzero(y_test-y_test_pred)/y_test.shape[0]\n",
    "print(\"Test Accuracy:\",test_acc)"
   ]
  },
  {
   "cell_type": "code",
   "execution_count": 44,
   "metadata": {},
   "outputs": [
    {
     "name": "stdout",
     "output_type": "stream",
     "text": [
      "In original data, 3/24 children were readmitted.\n",
      "In modified data, 3/4 children were readmitted.\n"
     ]
    }
   ],
   "source": [
    "# Remove from the training set all but one young patients who didn't get readmitted \n",
    "mask_to_remove = (Y_train == -1) & (X_train[:, age_var_indices[0]] == 1) \n",
    "idx_to_remove = np.where(mask_to_remove)[0][:-1] # Keep 1 of them\n",
    "mask_to_keep = np.array([True] * len(mask_to_remove), dtype=bool)\n",
    "mask_to_keep[idx_to_remove] = False\n",
    "\n",
    "modified_X_train = np.copy(X_train)\n",
    "modified_Y_train = np.copy(Y_train)\n",
    "\n",
    "modified_X_train = modified_X_train[mask_to_keep, :]\n",
    "modified_Y_train = modified_Y_train[mask_to_keep]\n",
    "\n",
    "print('In original data, %s/%s children were readmitted.' % (\n",
    "        np.sum((Y_train == 1) & (X_train[:, age_var_indices[0]] == 1)),\n",
    "        np.sum((X_train[:, age_var_indices[0]] == 1))))\n",
    "print('In modified data, %s/%s children were readmitted.' % (\n",
    "        np.sum((modified_Y_train == 1) & (modified_X_train[:, age_var_indices[0]] == 1)),\n",
    "        np.sum((modified_X_train[:, age_var_indices[0]] == 1))))\n",
    "\n",
    "# modified_train = DataSet(modified_X_train, modified_Y_train)\n",
    "# validation = None\n",
    "# test = DataSet(X_test, Y_test)\n",
    "# modified_data_sets = base.Datasets(train=modified_train, validation=validation, test=test)\n",
    "\n",
    "\n",
    "# lr_modified_train = DataSet(modified_X_train, np.array((modified_Y_train + 1) / 2, dtype=int))\n",
    "# lr_modified_data_sets = base.Datasets(train=lr_modified_train, validation=lr_validation, test=lr_test)"
   ]
  },
  {
   "cell_type": "code",
   "execution_count": 45,
   "metadata": {},
   "outputs": [
    {
     "data": {
      "text/plain": [
       "LogisticRegression(C=0.5000250012500626, class_weight=None, dual=False,\n",
       "          fit_intercept=False, intercept_scaling=1, max_iter=10000,\n",
       "          multi_class='multinomial', n_jobs=None, penalty='l2',\n",
       "          random_state=None, solver='lbfgs', tol=1e-08, verbose=0,\n",
       "          warm_start=True)"
      ]
     },
     "execution_count": 45,
     "metadata": {},
     "output_type": "execute_result"
    }
   ],
   "source": [
    "import copy\n",
    "clf2 = copy.copy(clf)\n",
    "clf2.fit(modified_X_train, modified_Y_train)"
   ]
  },
  {
   "cell_type": "code",
   "execution_count": 46,
   "metadata": {},
   "outputs": [
    {
     "name": "stdout",
     "output_type": "stream",
     "text": [
      "Train Accuracy: 0.62355\n",
      "Test Accuracy: 0.6799525475136365\n"
     ]
    }
   ],
   "source": [
    "y_train_pred2 = clf2.predict(X_train)\n",
    "wrong = np.zeros(y_train.shape)\n",
    "wrong[y_train!=y_train_pred2] = 1\n",
    "acc = 1 - np.count_nonzero(y_train-y_train_pred2)/y_train.shape[0]\n",
    "print(\"Train Accuracy:\",acc)\n",
    "\n",
    "y_test_pred2 = clf2.predict(X_test)\n",
    "test_wrong = np.zeros(y_test.shape)\n",
    "test_wrong[y_test!=y_test_pred2] = 1\n",
    "test_acc = 1 - np.count_nonzero(y_test-y_test_pred2)/y_test.shape[0]\n",
    "print(\"Test Accuracy:\",test_acc)"
   ]
  },
  {
   "cell_type": "code",
   "execution_count": 47,
   "metadata": {},
   "outputs": [
    {
     "name": "stdout",
     "output_type": "stream",
     "text": [
      "(81766,)\n",
      "index 473, label -1: 0.9870921429830902 vs. 0.9870909050705315\n",
      "index 647, label -1: 0.9828662040879483 vs. 0.9829165126836178\n",
      "index 1037, label -1: 0.4143081554529367 vs. 0.41443652172120443\n",
      "index 1599, label -1: 0.6420962781639855 vs. 0.6421079332045081\n",
      "index 1611, label -1: 0.4429727670594578 vs. 0.443132339871574\n",
      "index 1742, label -1: 0.2332164007938807 vs. 0.23505429412982506\n",
      "index 2119, label -1: 0.7627744399916112 vs. 0.7617415983664483\n",
      "index 2623, label -1: 0.16981526882977363 vs. 0.17002489641500557\n",
      "index 4901, label -1: 0.32954929818017775 vs. 0.32971034474975375\n",
      "index 6120, label -1: 0.6575774675639303 vs. 0.6566881129716409\n",
      "index 6160, label -1: 0.630785979322452 vs. 0.6297836049039536\n",
      "index 6997, label -1: 0.5723898841202211 vs. 0.5722709537294018\n",
      "index 7062, label -1: 0.6096892379835362 vs. 0.6088269921098624\n",
      "index 7619, label -1: 0.3113996388190425 vs. 0.31226289320160744\n",
      "index 9026, label -1: 0.494434917352757 vs. 0.4952536112743273\n",
      "index 9345, label -1: 0.47633992375943707 vs. 0.4762371989924141\n",
      "index 9448, label -1: 0.45708623016439437 vs. 0.45745938570596306\n",
      "index 10163, label -1: 0.6691921377074247 vs. 0.6688877658098638\n",
      "index 10247, label -1: 0.5498581695957545 vs. 0.5497843636887951\n",
      "index 10637, label -1: 0.6118565549271715 vs. 0.6122441096021273\n",
      "index 11036, label -1: 0.42774378441529226 vs. 0.42877247777007454\n",
      "index 11599, label -1: 0.45723598396756865 vs. 0.45686903960773606\n",
      "index 11822, label -1: 0.5435999057991004 vs. 0.5441853210618272\n",
      "index 11898, label -1: 0.4589092057881454 vs. 0.4617982954092298\n",
      "index 13041, label -1: 0.1218127020513507 vs. 0.12186057578524438\n",
      "index 13524, label -1: 0.4496999917717921 vs. 0.4524705581626691\n",
      "index 14424, label -1: 0.535073654274575 vs. 0.5351910546864986\n",
      "index 14809, label -1: 0.2823459711186741 vs. 0.28331562296857876\n",
      "index 15022, label -1: 0.6193206500275683 vs. 0.6179240283527555\n",
      "index 15514, label -1: 0.6030241374952751 vs. 0.6033146843508264\n",
      "index 15559, label -1: 0.9755536367521799 vs. 0.97561926016353\n",
      "index 15828, label -1: 0.6128851514698236 vs. 0.6103152648849466\n",
      "index 16028, label -1: 0.21307370390508498 vs. 0.2134119478658258\n",
      "index 16111, label -1: 0.4080481632046276 vs. 0.4091229150528843\n",
      "index 18073, label -1: 0.2913162934862207 vs. 0.29075340704324576\n",
      "index 18238, label -1: 0.6322717478048753 vs. 0.6332608526713647\n",
      "index 19151, label -1: 0.6390218330753307 vs. 0.6396808285404387\n",
      "index 19181, label -1: 0.30417052329571487 vs. 0.3046536315896918\n",
      "index 20173, label -1: 0.5265084953499208 vs. 0.5267335392812125\n",
      "index 20226, label -1: 0.5649113696517668 vs. 0.5646038550214978\n",
      "index 20466, label -1: 0.23625557796504196 vs. 0.2369979061556303\n",
      "index 20611, label -1: 0.32066733095323596 vs. 0.32009666359835404\n",
      "index 22432, label -1: 0.5262980113323719 vs. 0.5260265046448453\n",
      "index 22952, label -1: 0.5225681150844591 vs. 0.5229790895511612\n",
      "index 23270, label -1: 0.36256528123177795 vs. 0.3626832061452554\n",
      "index 24259, label -1: 0.5590021941799771 vs. 0.5581999858088255\n",
      "index 24285, label -1: 0.4213259152137537 vs. 0.42002935762136573\n",
      "index 25025, label -1: 0.4072519421968086 vs. 0.40983181117184403\n",
      "index 25141, label -1: 0.6460921735259306 vs. 0.6435324155901535\n",
      "index 25301, label -1: 0.6082968278534461 vs. 0.608843042719231\n",
      "index 25635, label -1: 0.6423924895707682 vs. 0.641694669229072\n",
      "index 25648, label -1: 0.35264315478938685 vs. 0.3547342209382301\n",
      "index 25653, label -1: 0.41422019084229 vs. 0.41419931930203635\n",
      "index 25767, label -1: 0.559856779970565 vs. 0.5624683756223099\n",
      "index 25812, label -1: 0.7819618277447763 vs. 0.7782081007426563\n",
      "index 27036, label -1: 0.6782481384453891 vs. 0.6768274607052155\n",
      "index 27986, label -1: 0.3927340250663874 vs. 0.39732702667117\n",
      "index 28287, label -1: 0.26304528745268974 vs. 0.26379489757664504\n",
      "index 28837, label -1: 0.562878623034131 vs. 0.562850818471279\n",
      "index 29047, label -1: 0.599367529484261 vs. 0.5999919366068492\n",
      "index 29459, label -1: 0.5317127229057522 vs. 0.5311021963559469\n",
      "index 29491, label -1: 0.30020904056761755 vs. 0.3001497690855779\n",
      "index 29570, label -1: 0.6547090762293659 vs. 0.6548640723356287\n",
      "index 29817, label -1: 0.4395401625996975 vs. 0.4403955376777065\n",
      "index 30118, label -1: 0.6411907151324032 vs. 0.6410802241791135\n",
      "index 30645, label -1: 0.6843928757487404 vs. 0.6843203923361697\n",
      "index 31932, label -1: 0.672322590298097 vs. 0.6723986186693526\n",
      "index 32323, label -1: 0.7033362879209869 vs. 0.7029684059307971\n",
      "index 34126, label -1: 0.5239022772083362 vs. 0.524387960506583\n",
      "index 35815, label -1: 0.5535244592126912 vs. 0.552136528431252\n",
      "index 36759, label -1: 0.496705222151402 vs. 0.49906555291252697\n",
      "index 36836, label -1: 0.5926262162175694 vs. 0.59254067151435\n",
      "index 37638, label -1: 0.6297419041478097 vs. 0.6301196011006379\n",
      "index 37897, label -1: 0.665867286767448 vs. 0.6653022500248231\n",
      "index 38458, label -1: 0.4328640988859646 vs. 0.433087285248109\n",
      "index 39010, label -1: 0.5138127646095724 vs. 0.5144539239221574\n",
      "index 39201, label -1: 0.6361609804294525 vs. 0.6360965889795064\n",
      "index 42915, label -1: 0.6041746433411623 vs. 0.6037487435792003\n",
      "index 43233, label -1: 0.6560531240052452 vs. 0.6552586631061545\n",
      "index 44240, label -1: 0.5839012141965887 vs. 0.5830706982108079\n",
      "index 44287, label -1: 0.7289009419194402 vs. 0.7283681733422791\n",
      "index 44430, label -1: 0.6126169288115816 vs. 0.6134261648699859\n",
      "index 44841, label -1: 0.6976180894590432 vs. 0.6978262418402111\n",
      "index 45342, label -1: 0.6206389979878222 vs. 0.6206571045446074\n",
      "index 46154, label -1: 0.6471119946735409 vs. 0.6474234566099293\n",
      "index 46643, label -1: 0.6682160344864334 vs. 0.6670190636714868\n",
      "index 47973, label -1: 0.5636155323631213 vs. 0.5589330631096333\n",
      "index 49361, label -1: 0.5439702794503213 vs. 0.5441244681700252\n",
      "index 49939, label -1: 0.6656485408246738 vs. 0.6645977679803317\n",
      "index 50352, label -1: 0.476393024581787 vs. 0.4770748043176146\n",
      "index 51399, label -1: 0.5898754411800918 vs. 0.5905202927685177\n",
      "index 52239, label -1: 0.5100465277884844 vs. 0.510145586488648\n",
      "index 52773, label -1: 0.5837272517195181 vs. 0.5830846043626797\n",
      "index 53475, label -1: 0.5104044872439296 vs. 0.5109093828124258\n",
      "index 53537, label -1: 0.67804456756127 vs. 0.678206660893639\n",
      "index 53860, label -1: 0.4193959023005547 vs. 0.41678993392358993\n",
      "index 55004, label -1: 0.6250791345013674 vs. 0.6251484669617776\n",
      "index 55399, label -1: 0.6016064975412271 vs. 0.6024167256795507\n",
      "index 59515, label -1: 0.3739842307177019 vs. 0.3743919859700647\n",
      "index 59753, label -1: 0.6195964545522992 vs. 0.6197192765364941\n",
      "index 59876, label -1: 0.7611683500312075 vs. 0.7600738111202081\n",
      "index 59960, label -1: 0.6860150142993373 vs. 0.6845738417777492\n",
      "index 61287, label -1: 0.4121925820885981 vs. 0.4116115045693476\n",
      "index 62074, label -1: 0.2537558872597795 vs. 0.2549456800193516\n",
      "index 62349, label -1: 0.691820323991804 vs. 0.6914711866003993\n",
      "index 65514, label -1: 0.27946675984964336 vs. 0.2796803704867462\n",
      "index 65778, label -1: 0.5590216868546356 vs. 0.5583808078720226\n",
      "index 66758, label -1: 0.3982954298026748 vs. 0.39823214136844315\n",
      "index 66924, label -1: 0.5030290918946478 vs. 0.5047148464600038\n",
      "index 67207, label -1: 0.379594173065791 vs. 0.38008462263685394\n",
      "index 67657, label -1: 0.29212010378653 vs. 0.27011226135672123\n",
      "index 67943, label -1: 0.6148325901579146 vs. 0.6145846468696091\n",
      "index 68752, label -1: 0.6053040824952992 vs. 0.6054957584142601\n",
      "index 69044, label -1: 0.7056128378208864 vs. 0.6998913481599381\n",
      "index 69654, label -1: 0.3694213228674449 vs. 0.3704778210071973\n",
      "index 70444, label -1: 0.4801966554747584 vs. 0.47865077787475957\n",
      "index 70571, label -1: 0.7306458014034547 vs. 0.7303046576256597\n",
      "index 70689, label -1: 0.5755529999792184 vs. 0.5736008955659204\n",
      "index 71430, label -1: 0.631085462859743 vs. 0.6311903610808867\n",
      "index 71451, label -1: 0.37112816934826687 vs. 0.3708566036057126\n",
      "index 72177, label -1: 0.4645530921542597 vs. 0.4655312830442137\n",
      "index 72424, label -1: 0.6782814780903804 vs. 0.6778682764322264\n",
      "index 72808, label -1: 0.5726452017164697 vs. 0.5720908110482938\n",
      "index 73832, label -1: 0.666512596932713 vs. 0.6663520260456169\n",
      "index 73938, label -1: 0.4970219462541967 vs. 0.49110707875317405\n",
      "index 75548, label -1: 0.5895573608881566 vs. 0.5899839148048682\n"
     ]
    },
    {
     "name": "stdout",
     "output_type": "stream",
     "text": [
      "index 76070, label -1: 0.45471743685926985 vs. 0.45488141644312546\n",
      "index 76250, label -1: 0.5151259645264392 vs. 0.5148674876642229\n",
      "index 76627, label -1: 0.5402095980995567 vs. 0.5415592467373823\n",
      "index 77527, label -1: 0.484939768203829 vs. 0.48589733011299935\n",
      "index 77959, label -1: 0.532958799509115 vs. 0.5333731536726793\n",
      "index 78098, label -1: 0.6080761341292119 vs. 0.6066922910646217\n",
      "index 79909, label -1: 0.5838952391350872 vs. 0.5849179295889902\n",
      "index 80509, label -1: 0.5540031893082447 vs. 0.5538904822988138\n",
      "index 80828, label -1: 0.4563372696850227 vs. 0.45623623178144707\n",
      "index 81437, label -1: 0.5013665046026433 vs. 0.5018271548321024\n",
      "index 81705, label -1: 0.6336145861126383 vs. 0.6338995009505443\n"
     ]
    }
   ],
   "source": [
    "# Find children in the test set and see how predictions change on them\n",
    "true_labels = Y_test[test_children_idx]\n",
    "\n",
    "orig_model_preds = clf.predict_proba(X_test)[:,0]\n",
    "modified_model_preds = clf2.predict_proba(X_test)[:,0]\n",
    "\n",
    "print(orig_model_preds.shape)\n",
    "\n",
    "for i in range(len(test_children_idx)):\n",
    "    if (orig_model_preds[i] < 0.5) != (modified_model_preds[i] < 0.5):\n",
    "        print('*** ', end='')\n",
    "    print(\"index %s, label %s: %s vs. %s\" % (\n",
    "        test_children_idx[i], true_labels[i], \n",
    "        orig_model_preds[i], modified_model_preds[i]))"
   ]
  },
  {
   "cell_type": "code",
   "execution_count": null,
   "metadata": {},
   "outputs": [],
   "source": []
  },
  {
   "cell_type": "code",
   "execution_count": 11,
   "metadata": {},
   "outputs": [
    {
     "data": {
      "application/vnd.jupyter.widget-view+json": {
       "model_id": "",
       "version_major": 2,
       "version_minor": 0
      },
      "text/plain": [
       "HBox(children=(IntProgress(value=0, max=340), HTML(value='')))"
      ]
     },
     "metadata": {},
     "output_type": "display_data"
    },
    {
     "name": "stdout",
     "output_type": "stream",
     "text": [
      "\n"
     ]
    },
    {
     "data": {
      "text/plain": [
       "(7, 340)"
      ]
     },
     "execution_count": 11,
     "metadata": {},
     "output_type": "execute_result"
    }
   ],
   "source": [
    "all_influences = functions.calculate_influences_on_trust_remove(clf, X_train, y_train, X_trust, y_trust, all=False)\n",
    "all_influences.shape"
   ]
  },
  {
   "cell_type": "code",
   "execution_count": 12,
   "metadata": {},
   "outputs": [],
   "source": [
    "n = 10\n",
    "top_n = True\n",
    "data.plot_influences(X_train, y_train, all_influences, n, top_n, X_trust, y_trust)"
   ]
  },
  {
   "cell_type": "code",
   "execution_count": null,
   "metadata": {
    "scrolled": false
   },
   "outputs": [],
   "source": [
    "pr = True\n",
    "functions.plot_pr_curves(all_influences, true_bugs, PR=pr, title=None)"
   ]
  },
  {
   "cell_type": "code",
   "execution_count": null,
   "metadata": {},
   "outputs": [],
   "source": []
  },
  {
   "cell_type": "code",
   "execution_count": null,
   "metadata": {},
   "outputs": [],
   "source": []
  },
  {
   "cell_type": "code",
   "execution_count": null,
   "metadata": {},
   "outputs": [],
   "source": []
  },
  {
   "cell_type": "code",
   "execution_count": null,
   "metadata": {},
   "outputs": [],
   "source": []
  },
  {
   "cell_type": "code",
   "execution_count": null,
   "metadata": {},
   "outputs": [],
   "source": []
  },
  {
   "cell_type": "code",
   "execution_count": null,
   "metadata": {},
   "outputs": [],
   "source": []
  },
  {
   "cell_type": "code",
   "execution_count": 23,
   "metadata": {},
   "outputs": [
    {
     "name": "stdout",
     "output_type": "stream",
     "text": [
      "Total number of parameters: 127\n"
     ]
    },
    {
     "name": "stderr",
     "output_type": "stream",
     "text": [
      "C:\\ProgramData\\Anaconda3\\lib\\site-packages\\tensorflow\\python\\ops\\gradients_impl.py:112: UserWarning: Converting sparse IndexedSlices to a dense Tensor of unknown shape. This may consume a large amount of memory.\n",
      "  \"Converting sparse IndexedSlices to a dense Tensor of unknown shape. \"\n"
     ]
    },
    {
     "name": "stdout",
     "output_type": "stream",
     "text": [
      "Using normal model\n"
     ]
    },
    {
     "name": "stderr",
     "output_type": "stream",
     "text": [
      "C:\\ProgramData\\Anaconda3\\lib\\site-packages\\sklearn\\linear_model\\logistic.py:758: ConvergenceWarning: lbfgs failed to converge. Increase the number of iterations.\n",
      "  \"of iterations.\", ConvergenceWarning)\n"
     ]
    },
    {
     "name": "stdout",
     "output_type": "stream",
     "text": [
      "LBFGS training took [1000] iter.\n",
      "After training with LBFGS: \n",
      "Train loss (w reg) on all data: 0.64229584\n",
      "Train loss (w/o reg) on all data: 0.6412036\n",
      "Test loss (w/o reg) on all data: 0.6529927\n",
      "Train acc on all data:  0.62385\n",
      "Test acc on all data:   0.6818359709414671\n",
      "Norm of the mean of gradients: 0.0010109771\n",
      "Norm of the params: 4.673857\n"
     ]
    }
   ],
   "source": [
    "# Train a model on the training set\n",
    "\n",
    "num_classes = 2\n",
    "\n",
    "input_dim = X_train.shape[1]\n",
    "weight_decay = 0.0001\n",
    "batch_size = 100\n",
    "initial_learning_rate = 0.001 \n",
    "keep_probs = None\n",
    "decay_epochs = [1000, 10000]\n",
    "max_lbfgs_iter = 1000\n",
    "use_bias = True\n",
    "\n",
    "tf.reset_default_graph()\n",
    "\n",
    "orig_model = BinaryLogisticRegressionWithLBFGS(\n",
    "    input_dim=input_dim,\n",
    "    weight_decay=weight_decay,\n",
    "    max_lbfgs_iter=max_lbfgs_iter,\n",
    "    num_classes=num_classes, \n",
    "    batch_size=batch_size,\n",
    "    data_sets=lr_data_sets,\n",
    "    initial_learning_rate=initial_learning_rate,\n",
    "    keep_probs=keep_probs,\n",
    "    decay_epochs=decay_epochs,\n",
    "    mini_batch=False,\n",
    "    train_dir='output',\n",
    "    log_dir='log',\n",
    "    model_name='diabetes_logreg')\n",
    "\n",
    "orig_model.train()\n",
    "\n",
    "orig_model_preds = orig_model.sess.run(\n",
    "    orig_model.preds,\n",
    "    feed_dict=orig_model.all_test_feed_dict)\n",
    "orig_model_preds = orig_model_preds[test_children_idx, 0]"
   ]
  },
  {
   "cell_type": "code",
   "execution_count": 27,
   "metadata": {},
   "outputs": [
    {
     "name": "stdout",
     "output_type": "stream",
     "text": [
      "In original data, 3/24 children were readmitted.\n",
      "In modified data, 3/4 children were readmitted.\n"
     ]
    }
   ],
   "source": [
    "# Remove from the training set all but one young patients who didn't get readmitted \n",
    "mask_to_remove = (Y_train == -1) & (X_train[:, age_var_indices[0]] == 1) \n",
    "idx_to_remove = np.where(mask_to_remove)[0][:-1] # Keep 1 of them\n",
    "mask_to_keep = np.array([True] * len(mask_to_remove), dtype=bool)\n",
    "mask_to_keep[idx_to_remove] = False\n",
    "\n",
    "modified_X_train = np.copy(X_train)\n",
    "modified_Y_train = np.copy(Y_train)\n",
    "\n",
    "modified_X_train = modified_X_train[mask_to_keep, :]\n",
    "modified_Y_train = modified_Y_train[mask_to_keep]\n",
    "\n",
    "print('In original data, %s/%s children were readmitted.' % (\n",
    "        np.sum((Y_train == 1) & (X_train[:, age_var_indices[0]] == 1)),\n",
    "        np.sum((X_train[:, age_var_indices[0]] == 1))))\n",
    "print('In modified data, %s/%s children were readmitted.' % (\n",
    "        np.sum((modified_Y_train == 1) & (modified_X_train[:, age_var_indices[0]] == 1)),\n",
    "        np.sum((modified_X_train[:, age_var_indices[0]] == 1))))\n",
    "\n",
    "modified_train = DataSet(modified_X_train, modified_Y_train)\n",
    "validation = None\n",
    "test = DataSet(X_test, Y_test)\n",
    "modified_data_sets = base.Datasets(train=modified_train, validation=validation, test=test)\n",
    "\n",
    "\n",
    "lr_modified_train = DataSet(modified_X_train, np.array((modified_Y_train + 1) / 2, dtype=int))\n",
    "lr_modified_data_sets = base.Datasets(train=lr_modified_train, validation=lr_validation, test=lr_test)"
   ]
  },
  {
   "cell_type": "code",
   "execution_count": 28,
   "metadata": {},
   "outputs": [
    {
     "name": "stdout",
     "output_type": "stream",
     "text": [
      "Total number of parameters: 127\n"
     ]
    },
    {
     "name": "stderr",
     "output_type": "stream",
     "text": [
      "C:\\ProgramData\\Anaconda3\\lib\\site-packages\\tensorflow\\python\\ops\\gradients_impl.py:112: UserWarning: Converting sparse IndexedSlices to a dense Tensor of unknown shape. This may consume a large amount of memory.\n",
      "  \"Converting sparse IndexedSlices to a dense Tensor of unknown shape. \"\n"
     ]
    },
    {
     "name": "stdout",
     "output_type": "stream",
     "text": [
      "Using normal model\n"
     ]
    },
    {
     "name": "stderr",
     "output_type": "stream",
     "text": [
      "C:\\ProgramData\\Anaconda3\\lib\\site-packages\\sklearn\\linear_model\\logistic.py:758: ConvergenceWarning: lbfgs failed to converge. Increase the number of iterations.\n",
      "  \"of iterations.\", ConvergenceWarning)\n"
     ]
    },
    {
     "name": "stdout",
     "output_type": "stream",
     "text": [
      "LBFGS training took [1000] iter.\n",
      "After training with LBFGS: \n",
      "Train loss (w reg) on all data: 0.6426071\n",
      "Train loss (w/o reg) on all data: 0.6415087\n",
      "Test loss (w/o reg) on all data: 0.6537577\n",
      "Train acc on all data:  0.6243743743743744\n",
      "Test acc on all data:   0.6813712300956388\n",
      "Norm of the mean of gradients: 0.0009771496\n",
      "Norm of the params: 4.687034\n"
     ]
    }
   ],
   "source": [
    "# Train a model on the modified training set\n",
    "tf.reset_default_graph()\n",
    "\n",
    "modified_model = BinaryLogisticRegressionWithLBFGS(\n",
    "    input_dim=input_dim,\n",
    "    weight_decay=weight_decay,\n",
    "    max_lbfgs_iter=max_lbfgs_iter,\n",
    "    num_classes=num_classes, \n",
    "    batch_size=batch_size,\n",
    "    data_sets=lr_modified_data_sets,\n",
    "    initial_learning_rate=initial_learning_rate,\n",
    "    keep_probs=keep_probs,\n",
    "    decay_epochs=decay_epochs,\n",
    "    mini_batch=False,\n",
    "    train_dir='output',\n",
    "    log_dir='log',\n",
    "    model_name='diabetes_logreg')\n",
    "\n",
    "modified_model.train()\n",
    "\n",
    "modified_model_preds = modified_model.sess.run(\n",
    "    modified_model.preds,\n",
    "    feed_dict=modified_model.all_test_feed_dict)\n",
    "modified_model_preds = modified_model_preds[test_children_idx, 0]\n",
    "modified_theta = modified_model.sess.run(modified_model.params)[0]"
   ]
  },
  {
   "cell_type": "code",
   "execution_count": 29,
   "metadata": {},
   "outputs": [
    {
     "data": {
      "text/plain": [
       "<matplotlib.axes._subplots.AxesSubplot at 0x19d1fd39da0>"
      ]
     },
     "execution_count": 29,
     "metadata": {},
     "output_type": "execute_result"
    },
    {
     "data": {
      "image/png": "[encoded data removed]",
      "text/plain": [
       "<Figure size 576x720 with 1 Axes>"
      ]
     },
     "metadata": {},
     "output_type": "display_data"
    }
   ],
   "source": [
    "# Baseline: look at coefficient values\n",
    "sns.set_style('white')\n",
    "plt.figure(figsize=(8, 10))\n",
    "idx = np.argsort(np.abs(modified_theta))[-20:]\n",
    "sns.barplot(np.abs(modified_theta[idx]), X.columns.values[idx])"
   ]
  },
  {
   "cell_type": "code",
   "execution_count": 30,
   "metadata": {},
   "outputs": [
    {
     "name": "stdout",
     "output_type": "stream",
     "text": [
      "index 473, label -1: 0.8024674 vs. 0.5668819\n",
      "index 647, label -1: 0.8348741 vs. 0.6184955\n",
      "index 1037, label -1: 0.78033906 vs. 0.53332806\n",
      "index 1599, label -1: 0.78071547 vs. 0.5336199\n",
      "index 1611, label -1: 0.806191 vs. 0.5726674\n",
      "*** index 1742, label -1: 0.72198325 vs. 0.4557631\n",
      "index 2119, label -1: 0.81580025 vs. 0.586512\n",
      "index 2623, label -1: 0.78843594 vs. 0.5446295\n",
      "index 4901, label -1: 0.7627556 vs. 0.50891817\n",
      "index 6120, label -1: 0.83239853 vs. 0.6142676\n",
      "index 6160, label -1: 0.81968 vs. 0.5931083\n",
      "index 6997, label -1: 0.8245501 vs. 0.6012052\n",
      "index 7062, label -1: 0.78942066 vs. 0.5463796\n",
      "index 7619, label -1: 0.8245013 vs. 0.6011989\n",
      "index 9026, label -1: 0.8149972 vs. 0.5866894\n",
      "index 9345, label -1: 0.8277682 vs. 0.60641986\n",
      "index 9448, label -1: 0.80999553 vs. 0.5791558\n",
      "index 10163, label -1: 0.858738 vs. 0.661439\n",
      "index 10247, label -1: 0.8205432 vs. 0.5947495\n",
      "index 10637, label -1: 0.83158123 vs. 0.6157683\n",
      "index 11036, label -1: 0.8304872 vs. 0.61097944\n",
      "index 11599, label -1: 0.8130977 vs. 0.58230245\n",
      "*** index 11822, label -1: 0.74654573 vs. 0.48625144\n",
      "*** index 11898, label -1: 0.7377605 vs. 0.47551447\n",
      "index 13041, label -1: 0.8168066 vs. 0.58789366\n",
      "index 13524, label -1: 0.7662472 vs. 0.5147999\n",
      "*** index 14424, label -1: 0.6879924 vs. 0.4158569\n",
      "index 14809, label -1: 0.79784346 vs. 0.55991846\n",
      "index 15022, label -1: 0.98548746 vs. 0.9552002\n",
      "index 15514, label -1: 0.8182785 vs. 0.59112805\n",
      "index 15559, label -1: 0.7849964 vs. 0.54123557\n",
      "index 15828, label -1: 0.82262224 vs. 0.5980186\n",
      "index 16028, label -1: 0.8171958 vs. 0.5886807\n",
      "index 16111, label -1: 0.7782557 vs. 0.53026503\n",
      "index 18073, label -1: 0.81517726 vs. 0.5853923\n",
      "index 18238, label -1: 0.83899117 vs. 0.62584656\n",
      "index 19151, label -1: 0.7942279 vs. 0.5545353\n",
      "index 19181, label -1: 0.8121216 vs. 0.5797311\n",
      "index 20173, label -1: 0.8131012 vs. 0.582672\n",
      "index 20226, label -1: 0.7946234 vs. 0.55431855\n",
      "index 20466, label -1: 0.79806304 vs. 0.5594328\n",
      "index 20611, label -1: 0.8022152 vs. 0.5651969\n",
      "index 22432, label -1: 0.77480584 vs. 0.52405334\n",
      "*** index 22952, label -1: 0.7292543 vs. 0.46155295\n",
      "index 23270, label -1: 0.8178226 vs. 0.59167814\n",
      "index 24259, label -1: 0.78419495 vs. 0.5396448\n",
      "index 24285, label -1: 0.8277565 vs. 0.6066056\n",
      "index 25025, label -1: 0.8250834 vs. 0.6015092\n",
      "index 25141, label -1: 0.81940055 vs. 0.5924004\n",
      "index 25301, label -1: 0.8419793 vs. 0.6320661\n",
      "index 25635, label -1: 0.78620046 vs. 0.5412549\n",
      "index 25648, label -1: 0.87481433 vs. 0.69385463\n",
      "index 25653, label -1: 0.8216972 vs. 0.5945655\n",
      "*** index 25767, label -1: 0.68021625 vs. 0.4062938\n",
      "index 25812, label -1: 0.85172546 vs. 0.64937854\n",
      "index 27036, label -1: 0.8290034 vs. 0.60848635\n",
      "index 27986, label -1: 0.8200265 vs. 0.59314996\n",
      "index 28287, label -1: 0.82641065 vs. 0.6061606\n",
      "*** index 28837, label -1: 0.7375858 vs. 0.47455484\n",
      "index 29047, label -1: 0.82284147 vs. 0.59776133\n",
      "index 29459, label -1: 0.83080935 vs. 0.6115268\n",
      "*** index 29491, label -1: 0.74688536 vs. 0.48695335\n",
      "index 29570, label -1: 0.7966366 vs. 0.5590543\n",
      "index 29817, label -1: 0.8222268 vs. 0.59679323\n",
      "index 30118, label -1: 0.8026949 vs. 0.56740963\n",
      "index 30645, label -1: 0.8311311 vs. 0.6120739\n",
      "index 31932, label -1: 0.7986709 vs. 0.5601895\n",
      "index 32323, label -1: 0.8212354 vs. 0.5951209\n",
      "index 34126, label -1: 0.79262185 vs. 0.5514922\n",
      "index 35815, label -1: 0.80071485 vs. 0.56417114\n",
      "index 36759, label -1: 0.82038665 vs. 0.5945346\n",
      "index 36836, label -1: 0.8103862 vs. 0.57863\n",
      "*** index 37638, label -1: 0.68302727 vs. 0.41442013\n",
      "index 37897, label -1: 0.77290624 vs. 0.52333146\n",
      "index 38458, label -1: 0.846204 vs. 0.63983566\n",
      "index 39010, label -1: 0.7570264 vs. 0.50107217\n",
      "index 39201, label -1: 0.7684444 vs. 0.5166989\n",
      "*** index 42915, label -1: 0.7379435 vs. 0.47503358\n",
      "index 43233, label -1: 0.83809143 vs. 0.62562466\n",
      "index 44240, label -1: 0.8023709 vs. 0.565275\n",
      "index 44287, label -1: 0.8278976 vs. 0.6082063\n",
      "index 44430, label -1: 0.80228066 vs. 0.5648423\n",
      "index 44841, label -1: 0.811556 vs. 0.57981944\n",
      "index 45342, label -1: 0.8287081 vs. 0.6074329\n",
      "index 46154, label -1: 0.79232395 vs. 0.5511112\n",
      "index 46643, label -1: 0.83148456 vs. 0.6137414\n",
      "index 47973, label -1: 0.8219455 vs. 0.5967793\n",
      "index 49361, label -1: 0.8302196 vs. 0.6107471\n",
      "*** index 49939, label -1: 0.72353584 vs. 0.4577527\n",
      "index 50352, label -1: 0.79618543 vs. 0.555178\n",
      "index 51399, label -1: 0.76436794 vs. 0.5107634\n",
      "index 52239, label -1: 0.81284034 vs. 0.5825763\n",
      "index 52773, label -1: 0.82865703 vs. 0.60653734\n",
      "index 53475, label -1: 0.8159916 vs. 0.58425903\n",
      "index 53537, label -1: 0.7940194 vs. 0.5537066\n",
      "index 53860, label -1: 0.7879717 vs. 0.5438452\n",
      "index 55004, label -1: 0.7978599 vs. 0.5589296\n",
      "index 55399, label -1: 0.8238943 vs. 0.600412\n",
      "index 59515, label -1: 0.8391471 vs. 0.6265449\n",
      "index 59753, label -1: 0.84389967 vs. 0.63617784\n",
      "index 59876, label -1: 0.809229 vs. 0.5772315\n",
      "index 59960, label -1: 0.7922873 vs. 0.54845786\n",
      "index 61287, label -1: 0.81750655 vs. 0.589001\n",
      "index 62074, label -1: 0.7968139 vs. 0.5568942\n",
      "index 62349, label -1: 0.82902944 vs. 0.6081078\n",
      "index 65514, label -1: 0.77090037 vs. 0.5200245\n",
      "index 65778, label -1: 0.8145428 vs. 0.58678436\n",
      "index 66758, label -1: 0.83855003 vs. 0.624448\n",
      "index 66924, label -1: 0.8004618 vs. 0.5630767\n",
      "index 67207, label -1: 0.8316863 vs. 0.6150327\n",
      "index 67657, label -1: 0.8204048 vs. 0.59471065\n",
      "*** index 67943, label -1: 0.75063115 vs. 0.49226195\n",
      "index 68752, label -1: 0.821914 vs. 0.596735\n",
      "index 69044, label -1: 0.79957634 vs. 0.5624234\n",
      "index 69654, label -1: 0.817593 vs. 0.58983415\n",
      "index 70444, label -1: 0.84630334 vs. 0.6387213\n",
      "index 70571, label -1: 0.7940594 vs. 0.553456\n",
      "index 70689, label -1: 0.82964015 vs. 0.6097686\n",
      "index 71430, label -1: 0.8382679 vs. 0.6243325\n",
      "index 71451, label -1: 0.781203 vs. 0.53434116\n",
      "index 72177, label -1: 0.8241045 vs. 0.5998433\n",
      "index 72424, label -1: 0.81348085 vs. 0.58371073\n",
      "*** index 72808, label -1: 0.7422803 vs. 0.48137584\n",
      "index 73832, label -1: 0.79890335 vs. 0.56075054\n",
      "index 73938, label -1: 0.8565237 vs. 0.65634\n",
      "index 75548, label -1: 0.82371515 vs. 0.5997015\n",
      "index 76070, label -1: 0.8334898 vs. 0.6163258\n",
      "index 76250, label -1: 0.78284174 vs. 0.53702676\n",
      "index 76627, label -1: 0.8336729 vs. 0.6164485\n",
      "index 77527, label -1: 0.7963927 vs. 0.55727965\n",
      "index 77959, label -1: 0.8085427 vs. 0.57618815\n",
      "index 78098, label -1: 0.8543899 vs. 0.6537517\n",
      "index 79909, label -1: 0.84127325 vs. 0.631143\n",
      "index 80509, label -1: 0.82858133 vs. 0.6073882\n",
      "index 80828, label -1: 0.82893854 vs. 0.6098051\n",
      "*** index 81437, label -1: 0.5692682 vs. 0.2990395\n",
      "index 81705, label -1: 0.8257883 vs. 0.6033026\n"
     ]
    }
   ],
   "source": [
    "# Find children in the test set and see how predictions change on them\n",
    "true_labels = Y_test[test_children_idx]\n",
    "\n",
    "for i in range(len(test_children_idx)):\n",
    "    if (orig_model_preds[i] < 0.5) != (modified_model_preds[i] < 0.5):\n",
    "        print('*** ', end='')\n",
    "    print(\"index %s, label %s: %s vs. %s\" % (\n",
    "        test_children_idx[i], true_labels[i], \n",
    "        orig_model_preds[i], modified_model_preds[i]))"
   ]
  },
  {
   "cell_type": "code",
   "execution_count": 31,
   "metadata": {},
   "outputs": [
    {
     "name": "stdout",
     "output_type": "stream",
     "text": [
      "Test point features:\n",
      "[ 1. 55.  0. 10.  0.  0.  1.  3.  1.  0.  0.  0.  0.  0.  1.  0.  0.  1.\n",
      "  0.  0.  0.  0.  0.  0.  0.  0.  0.  1.  0.  0.  0.  0.  0.  0.  0.  0.\n",
      "  0.  0.  0.  0.  0.  0.  0.  0.  0.  0.  0.  0.  0.  0.  0.  0.  0.  0.\n",
      "  0.  1.  0.  0.  0.  1.  0.  0.  1.  0.  0.  0.  1.  0.  0.  0.  1.  0.\n",
      "  0.  0.  1.  0.  0.  0.  1.  0.  0.  0.  0.  1.  0.  0.  0.  1.  0.  0.\n",
      "  0.  0.  1.  0.  0.  0.  1.  0.  0.  0.  1.  0.  0.  0.  1.  0.  0.  0.\n",
      "  1.  0.  0.  1.  1.  1.  0.  0.  0.  0.  1.  0.  0.  0.  0.  0.  0.  0.\n",
      "  1.]\n",
      "-1\n",
      "Younger than 10? 1.0\n",
      "Norm of test gradient: 30.588825\n",
      "Function value: 208.30311584472656\n",
      "Split function value: 243.5022430419922, -35.199127\n",
      "Predicted loss diff on train_idx 5: -0.000574388351287689\n",
      "Function value: -4.156877517700195\n",
      "Split function value: 5.867430686950684, -10.024308\n",
      "Predicted loss diff on train_idx 5: -0.000126533250550966\n",
      "Function value: -4.316900730133057\n",
      "Split function value: 5.00931978225708, -9.3262205\n",
      "Predicted loss diff on train_idx 5: -9.458505355560028e-05\n",
      "Function value: -399.2225646972656\n",
      "Split function value: 51.277923583984375, -450.5005\n",
      "Predicted loss diff on train_idx 5: 7.643398341235217e-05\n",
      "Function value: -960.5871276855469\n",
      "Split function value: 489.7236633300781, -1450.3108\n",
      "Predicted loss diff on train_idx 5: -8.20206569599079e-05\n",
      "Function value: -1073.58349609375\n",
      "Split function value: 1037.1484375, -2110.732\n",
      "Predicted loss diff on train_idx 5: 0.0007551436667685753\n",
      "Function value: -1080.74658203125\n",
      "Split function value: 1031.201171875, -2111.9478\n",
      "Predicted loss diff on train_idx 5: 1.0605330193961585e-05\n",
      "Function value: -1081.1021728515625\n",
      "Split function value: 1033.5850830078125, -2114.6873\n",
      "Predicted loss diff on train_idx 5: 9.203463554143667e-06\n",
      "Function value: -1081.614013671875\n",
      "Split function value: 1058.715576171875, -2140.3296\n",
      "Predicted loss diff on train_idx 5: 4.359507733756477e-06\n",
      "Function value: -1081.7584228515625\n",
      "Split function value: 1081.1160888671875, -2162.8745\n",
      "Predicted loss diff on train_idx 5: -1.062440860259521e-06\n",
      "Function value: -1081.7606201171875\n",
      "Split function value: 1081.2257080078125, -2162.9863\n",
      "Predicted loss diff on train_idx 5: -7.898373915268495e-06\n",
      "Function value: -1081.7607421875\n",
      "Split function value: 1081.3955078125, -2163.1562\n",
      "Predicted loss diff on train_idx 5: -7.513064044612544e-06\n",
      "Warning: Desired error not necessarily achieved due to precision loss.\n",
      "         Current function value: -1081.760742\n",
      "         Iterations: 12\n",
      "         Function evaluations: 85\n",
      "         Gradient evaluations: 87\n",
      "         Hessian evaluations: 571\n",
      "Saved inverse HVP to output\\diabetes_logreg-cg-normal_loss-test-[1742].npz\n",
      "Inverse HVP took 45.09731101989746 sec\n",
      "Multiplying by 19980 train examples took 15.980801820755005 sec\n",
      "Top 10 training points making the loss on the test point worse:\n",
      "#13685, class=1, age=[1. 0. 0. 0. 0. 0. 0. 0. 0. 0.], predicted_loss_diff=-0.11908126\n",
      "# 9366, class=1, age=[1. 0. 0. 0. 0. 0. 0. 0. 0. 0.], predicted_loss_diff=-0.11760011\n",
      "#11116, class=1, age=[1. 0. 0. 0. 0. 0. 0. 0. 0. 0.], predicted_loss_diff=-0.08191610\n",
      "# 5825, class=-1, age=[0. 0. 0. 0. 0. 0. 1. 0. 0. 0.], predicted_loss_diff=-0.00297658\n",
      "#13027, class=1, age=[0. 1. 0. 0. 0. 0. 0. 0. 0. 0.], predicted_loss_diff=-0.00253414\n",
      "# 1912, class=1, age=[0. 1. 0. 0. 0. 0. 0. 0. 0. 0.], predicted_loss_diff=-0.00197212\n",
      "#15190, class=1, age=[0. 1. 0. 0. 0. 0. 0. 0. 0. 0.], predicted_loss_diff=-0.00193277\n",
      "#13061, class=1, age=[0. 1. 0. 0. 0. 0. 0. 0. 0. 0.], predicted_loss_diff=-0.00168598\n",
      "# 6890, class=1, age=[0. 1. 0. 0. 0. 0. 0. 0. 0. 0.], predicted_loss_diff=-0.00165383\n",
      "# 1132, class=1, age=[0. 1. 0. 0. 0. 0. 0. 0. 0. 0.], predicted_loss_diff=-0.00156114\n",
      "Top 10 training points making the loss on the test point better:\n",
      "#19590, class=-1, age=[1. 0. 0. 0. 0. 0. 0. 0. 0. 0.], predicted_loss_diff=0.08258626\n",
      "#11641, class=-1, age=[0. 0. 1. 0. 0. 0. 0. 0. 0. 0.], predicted_loss_diff=0.00144806\n",
      "#14549, class=-1, age=[0. 0. 0. 0. 1. 0. 0. 0. 0. 0.], predicted_loss_diff=0.00142610\n",
      "#19107, class=-1, age=[0. 0. 0. 0. 0. 0. 0. 1. 0. 0.], predicted_loss_diff=0.00137905\n",
      "# 4849, class=-1, age=[0. 0. 0. 0. 0. 0. 0. 1. 0. 0.], predicted_loss_diff=0.00134886\n",
      "#17796, class=-1, age=[0. 0. 0. 0. 0. 0. 0. 0. 1. 0.], predicted_loss_diff=0.00132925\n",
      "# 3421, class=-1, age=[0. 1. 0. 0. 0. 0. 0. 0. 0. 0.], predicted_loss_diff=0.00131822\n",
      "# 5282, class=-1, age=[0. 1. 0. 0. 0. 0. 0. 0. 0. 0.], predicted_loss_diff=0.00131073\n",
      "#18404, class=1, age=[0. 0. 0. 0. 0. 0. 0. 1. 0. 0.], predicted_loss_diff=0.00127344\n",
      "# 8749, class=-1, age=[0. 0. 0. 0. 0. 0. 0. 1. 0. 0.], predicted_loss_diff=0.00120264\n"
     ]
    }
   ],
   "source": [
    "# Pick one of those children and find the most influential examples on it\n",
    "test_idx = 1742\n",
    "x_test = X_test[test_idx, :]\n",
    "y_test = Y_test[test_idx]\n",
    "print(\"Test point features:\")\n",
    "print(x_test)\n",
    "print(y_test)\n",
    "print('Younger than 10? %s' % x_test[age_var_indices[0]])\n",
    "\n",
    "influences = modified_model.get_influence_on_test_loss(\n",
    "    test_indices=[1742],\n",
    "    train_idx=np.arange(len(modified_model.data_sets.train.labels)))\n",
    "\n",
    "top_k = 10\n",
    "helpful_points = np.argsort(influences)[-top_k:][::-1]\n",
    "unhelpful_points = np.argsort(influences)[:top_k]\n",
    "\n",
    "influences_to_plot = []\n",
    "ages_to_plot = []\n",
    "\n",
    "for points, message in [\n",
    "    (unhelpful_points, 'worse'), (helpful_points, 'better')]:\n",
    "    print(\"Top %s training points making the loss on the test point %s:\" % (top_k, message))\n",
    "    for counter, idx in enumerate(points):\n",
    "        print(\"#%5d, class=%s, age=%s, predicted_loss_diff=%.8f\" % (\n",
    "            idx,                 \n",
    "            modified_Y_train[idx], \n",
    "            modified_X_train[idx, age_var_indices],\n",
    "            influences[idx]))\n",
    "        \n",
    "        ages_to_plot.append(idx)\n",
    "        influences_to_plot.append(influences[idx])\n"
   ]
  },
  {
   "cell_type": "code",
   "execution_count": 23,
   "metadata": {},
   "outputs": [
    {
     "data": {
      "text/plain": [
       "<matplotlib.axes._subplots.AxesSubplot at 0x7fd828250110>"
      ]
     },
     "execution_count": 23,
     "metadata": {},
     "output_type": "execute_result"
    },
    {
     "data": {
      "image/png": "[encoded data removed]",
      "text/plain": [
       "<matplotlib.figure.Figure at 0x7fd8282500d0>"
      ]
     },
     "metadata": {},
     "output_type": "display_data"
    }
   ],
   "source": [
    "# The children in the modified dataset are by far the most influential\n",
    "plt.figure(figsize=(15,6))\n",
    "sort_idx = np.argsort(influences_to_plot)\n",
    "ages_to_plot = np.array(ages_to_plot)\n",
    "sns.barplot(ages_to_plot, influences_to_plot, order=ages_to_plot[sort_idx])"
   ]
  },
  {
   "cell_type": "code",
   "execution_count": 24,
   "metadata": {},
   "outputs": [
    {
     "name": "stdout",
     "output_type": "stream",
     "text": [
      "Norm of test gradient: 30.045\n",
      "Loaded inverse HVP from output/diabetes_logreg-cg-normal_loss-test-[1742].npz\n",
      "Inverse HVP took 0.00241303443909 sec\n"
     ]
    },
    {
     "data": {
      "text/plain": [
       "<matplotlib.axes._subplots.AxesSubplot at 0x7fd8804c5250>"
      ]
     },
     "execution_count": 24,
     "metadata": {},
     "output_type": "execute_result"
    },
    {
     "data": {
      "image/png": "[encoded data removed]",
      "text/plain": [
       "<matplotlib.figure.Figure at 0x7fd8804c5150>"
      ]
     },
     "metadata": {},
     "output_type": "display_data"
    }
   ],
   "source": [
    "# Look at which features are causing this influence\n",
    "grad_influences_wrt_input_val = modified_model.get_grad_of_influence_wrt_input(\n",
    "    [19590, 13685, 9366, 11116], \n",
    "    [test_idx], \n",
    "    force_refresh=False,\n",
    "    test_description=None,\n",
    "    loss_type='normal_loss')    \n",
    "\n",
    "delta = grad_influences_wrt_input_val[0, :]\n",
    "plt.figure(figsize=(8, 6))\n",
    "idx_to_plot = np.array([0] * len(delta), dtype=bool)\n",
    "idx_to_plot[:10] = 1\n",
    "idx_to_plot[-10:] = 1\n",
    "sns.barplot(np.sort(delta)[idx_to_plot], feature_names[np.argsort(delta)[idx_to_plot]], orient='h')"
   ]
  }
 ],
 "metadata": {
  "kernelspec": {
   "display_name": "Python 3",
   "language": "python",
   "name": "python3"
  },
  "language_info": {
   "codemirror_mode": {
    "name": "ipython",
    "version": 3
   },
   "file_extension": ".py",
   "mimetype": "text/x-python",
   "name": "python",
   "nbconvert_exporter": "python",
   "pygments_lexer": "ipython3",
   "version": "3.6.1"
  }
 },
 "nbformat": 4,
 "nbformat_minor": 1
}
