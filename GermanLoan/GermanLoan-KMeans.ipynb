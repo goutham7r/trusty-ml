{
 "cells": [
  {
   "cell_type": "markdown",
   "metadata": {},
   "source": [
    "# experiments"
   ]
  },
  {
   "cell_type": "code",
   "execution_count": 1,
   "metadata": {
    "collapsed": true
   },
   "outputs": [],
   "source": [
    "from sklearn.cluster import KMeans\n",
    "import numpy as np\n",
    "from sklearn.linear_model import LogisticRegression\n",
    "from sklearn.metrics.pairwise import rbf_kernel\n",
    "from itertools import product\n",
    "import matplotlib.pyplot as plt"
   ]
  },
  {
   "cell_type": "code",
   "execution_count": 2,
   "metadata": {
    "collapsed": true,
    "scrolled": true
   },
   "outputs": [],
   "source": [
    "def evaluate_model(y_train,y_train_mod, y_mod_pred):\n",
    "\tprint(\"Number of label changes made in dataset: %d\" % np.count_nonzero(y_train - y_train_mod))\n",
    "\tprint(\"Model Accuracy w.r.t. Original dataset: \", \n",
    "          np.count_nonzero((y_train - y_mod_pred)==0)*100.0/y_train.shape[0])\n",
    "\tprint(\"Model Accuracy w.r.t. Modified dataset: \", \n",
    "          np.count_nonzero((y_train_mod - y_mod_pred)==0)*100.0/y_train.shape[0],\"\\n\")"
   ]
  },
  {
   "cell_type": "code",
   "execution_count": 3,
   "metadata": {
    "collapsed": true
   },
   "outputs": [],
   "source": [
    "def check_trusted_items(X_train,y_train,X_trust,y_trust, clf, combo=None, \n",
    "\t\t\t\t\t\ttrain_cluster_labels=None, trust_cluster_labels=None, plot=False):\n",
    "\n",
    "\tclf.fit(X_train, y_train)\n",
    "\ty_train_pred = clf.predict(X_train)\n",
    "\n",
    "\ty_trust_pred = clf.predict(X_trust)\n",
    "\n",
    "\t# print(\"Plotting...\")\n",
    "\n",
    "\tif np.array_equal(y_trust, y_trust_pred):\n",
    "\t\tprint (\"All trusted items predicted correctly by model, combo:\",combo)\n",
    "\t\tif plot:\n",
    "\t\t\tplotting.plot_model(X_train, y_train, X_trust, y_trust, str(combo)+\" Good\", \n",
    "\t\t\t\t\t\t\t\t\t\t\t\t\ttrain_cluster_labels, trust_cluster_labels)\n",
    "\t\tcheck = True\n",
    "\telse:\n",
    "\t\tprint (\"%d trusted items were incorrectly predicted. Continuing experiment...\"%\n",
    "               np.count_nonzero(y_trust-y_trust_pred))\n",
    "\t\tif plot:\n",
    "\t\t\tplot_model(X_train, y_train, clf, X_trust, y_trust, str(combo)+\" Bad\", \n",
    "\t\t \t\t\t\t\t\t\t\t\t\t\ttrain_cluster_labels, trust_cluster_labels)\n",
    "\t\tcheck = False\n",
    "\treturn clf, y_train_pred, y_trust_pred, check"
   ]
  },
  {
   "cell_type": "code",
   "execution_count": 4,
   "metadata": {
    "collapsed": true
   },
   "outputs": [],
   "source": [
    "def modify_labels(K, y_train, train_cluster_labels, combo, max_changes=np.inf):\n",
    "\t\n",
    "\ty_train_mod = np.copy(y_train)\n",
    "\tfor i in range(K):\n",
    "\t\ty_train_mod[train_cluster_labels==i] = combo[i]\n",
    "\t\n",
    "\tnum_changes = np.count_nonzero(y_train - y_train_mod)\n",
    "\tif num_changes>max_changes:\n",
    "\t\t# print(combo,\"Too many changes to dataset:\",num_changes,\"\\n\")\n",
    "\t\treturn None\n",
    "\telse:\n",
    "\t\tprint(combo,\"Changes to dataset:\",num_changes,\"\\n\")\n",
    "\t\treturn y_train_mod"
   ]
  },
  {
   "cell_type": "code",
   "execution_count": 5,
   "metadata": {
    "collapsed": true
   },
   "outputs": [],
   "source": [
    "def modify_labels_trust(y_train,y_trust,y_trust_pred,train_cluster_labels,trust_cluster_labels,max_changes=np.inf):\n",
    "\ty_train_mod = np.copy(y_train)\n",
    "\tcount = 0\n",
    "\tfor i in range(len(y_trust_pred)):\n",
    "\t\tif y_trust_pred[i]!=y_trust[i]:\n",
    "\t\t\tprint(\"Set Cluster\",trust_cluster_labels[i],\"to\",y_trust[i])\n",
    "\t\t\ty_train_mod[train_cluster_labels==trust_cluster_labels[i]] = y_trust[i]\n",
    "\tnum_changes = np.count_nonzero(y_train - y_train_mod)\n",
    "\tif num_changes>max_changes:\n",
    "\t\tprint(\"Too many changes to dataset:\",num_changes,\"\\n\")\n",
    "\t\treturn None\n",
    "\telse:\n",
    "\t\treturn y_train_mod\n"
   ]
  },
  {
   "cell_type": "code",
   "execution_count": 3,
   "metadata": {},
   "outputs": [
    {
     "ename": "NameError",
     "evalue": "name 'np' is not defined",
     "output_type": "error",
     "traceback": [
      "\u001b[0;31m---------------------------------------------------------------------------\u001b[0m",
      "\u001b[0;31mNameError\u001b[0m                                 Traceback (most recent call last)",
      "\u001b[0;32m<ipython-input-3-162077ea873c>\u001b[0m in \u001b[0;36m<module>\u001b[0;34m()\u001b[0m\n\u001b[1;32m      1\u001b[0m def cluster_data(X_train, y_train, X_trust, y_trust, clf, \n\u001b[0;32m----> 2\u001b[0;31m                  \u001b[0mmin_K\u001b[0m\u001b[0;34m,\u001b[0m \u001b[0mmax_K\u001b[0m\u001b[0;34m,\u001b[0m \u001b[0mmax_changes\u001b[0m\u001b[0;34m=\u001b[0m\u001b[0mnp\u001b[0m\u001b[0;34m.\u001b[0m\u001b[0minf\u001b[0m\u001b[0;34m,\u001b[0m \u001b[0mtry_all_combos\u001b[0m\u001b[0;34m=\u001b[0m\u001b[0;32mFalse\u001b[0m\u001b[0;34m,\u001b[0m \u001b[0mplot\u001b[0m\u001b[0;34m=\u001b[0m\u001b[0;32mFalse\u001b[0m\u001b[0;34m,\u001b[0m \u001b[0mcluster_with_labels\u001b[0m\u001b[0;34m=\u001b[0m\u001b[0;32mFalse\u001b[0m\u001b[0;34m,\u001b[0m\u001b[0;34m\u001b[0m\u001b[0m\n\u001b[0m\u001b[1;32m      3\u001b[0m                  model=\"KMeans\"):\n\u001b[1;32m      4\u001b[0m \u001b[0;34m\u001b[0m\u001b[0m\n\u001b[1;32m      5\u001b[0m     \u001b[0mlabel_set\u001b[0m \u001b[0;34m=\u001b[0m \u001b[0mlist\u001b[0m\u001b[0;34m(\u001b[0m\u001b[0mset\u001b[0m\u001b[0;34m(\u001b[0m\u001b[0my_train\u001b[0m\u001b[0;34m)\u001b[0m\u001b[0;34m)\u001b[0m\u001b[0;34m\u001b[0m\u001b[0m\n",
      "\u001b[0;31mNameError\u001b[0m: name 'np' is not defined"
     ]
    }
   ],
   "source": [
    "def cluster_data(X_train, y_train, X_trust, y_trust, clf, \n",
    "                 min_K, max_K, max_changes=np.inf, try_all_combos=False, plot=False, cluster_with_labels=False,\n",
    "                 model=\"KMeans\"):\n",
    "    \n",
    "    label_set = list(set(y_train))\n",
    "\n",
    "    # Visualize original dataset\n",
    "    print(\"Running Model without any modifications to dataset...\")\n",
    "\n",
    "    clf, y_pred, y_trust_pred, check = check_trusted_items(X_train,y_train,X_trust,y_trust,clf, plot=plot)\n",
    "    print(\"Number of bugs: %d\" % np.count_nonzero(y_train - y_pred))\n",
    "    evaluate_model(y_train,y_train, y_pred)\n",
    "\n",
    "    if check:\n",
    "        print(\"All trusted items classified correctly using original dataset! \\n\")\n",
    "\n",
    "    print()\n",
    "\n",
    "    if try_all_combos:\n",
    "        print(\"Trying all labeling of clusters, from K = %d to %d\\n\"%(min_K,max_K))\n",
    "    else:\n",
    "        print(\"Modifying only labels of clusters containing mislabeled trusted items, from K = %d to %d\\n\"%(min_K,max_K))\n",
    "    \n",
    "    print(X_train.shape,y_train.shape)\n",
    "    if cluster_with_labels:\n",
    "        X_train_cluster = np.hstack((X_train, np.reshape(y_train,(y_train.shape[0],1))))\n",
    "        X_trust_cluster = np.hstack((X_trust, np.reshape(y_trust,(y_trust.shape[0],1))))\n",
    "    else:\n",
    "        X_train_cluster = np.copy(X_train)\n",
    "        X_trust_cluster = np.copy(X_trust)\n",
    "    \n",
    "    for K in range(min_K,max_K+1):\n",
    "        if model==\"KMeans\":\n",
    "            print(\"Algorithm used: KMeans Clustering\")\n",
    "            cluster_model = KMeans(n_clusters=K)\n",
    "            cluster_model.fit(X_train_cluster)\n",
    "            train_cluster_labels = cluster_model.labels_\n",
    "            trust_cluster_labels = cluster_model.predict(X_trust_cluster)\n",
    "        elif model==\"Agg\":\n",
    "            print(\"Algorithm used: Agglomerative Clustering\")\n",
    "            cluster_model = AgglomerativeClustering(n_clusters=K)\n",
    "            X_train_and_trust = np.vstack([X_train, X_trust])\n",
    "            cluster_model.fit(X_train_and_trust)\n",
    "            train_cluster_labels = cluster_model.labels_[:X_train.shape[0]]\n",
    "            trust_cluster_labels = cluster_model.labels_[X_train.shape[0]:]\n",
    "\n",
    "        if try_all_combos:\n",
    "            print(\"Brute Force Clustering for K=%d\"%K)\n",
    "            all_combos = list(product(label_set, repeat=K)) \n",
    "            # this list contains every possible combination of labels for each cluster\n",
    "            \n",
    "            for combo in all_combos:\n",
    "                if len(set(combo))<=1:\n",
    "                    continue\n",
    "\n",
    "                \n",
    "                y_train_mod = modify_labels(K, y_train, train_cluster_labels, combo, max_changes=max_changes)\n",
    "                if y_train_mod is None:\n",
    "                    continue\n",
    "\n",
    "                print(combo,\":\",)\n",
    "                clf, y_mod_pred, _, check = check_trusted_items(X_train,y_train_mod,X_trust,y_trust, clf, combo, \n",
    "                                                                train_cluster_labels, trust_cluster_labels)\n",
    "                \n",
    "                evaluate_model(y_train,y_train_mod, y_mod_pred)\n",
    "        else:\n",
    "            print(\"Trusted Clustering for K=%d\"%K)\n",
    "            y_train_mod = modify_labels_trust(y_train,y_trust,y_trust_pred,train_cluster_labels,trust_cluster_labels,max_changes=max_changes)\n",
    "            if y_train_mod is None:\n",
    "                continue\n",
    "\n",
    "            # print(y_trust_pred,y_trust)\n",
    "            # print \"List of points whose labels were changed:\",[i for i in range(len(y_train)) if y_train[i]!=y_train_mod[i]]\n",
    "            # print(train_cluster_labels,trust_cluster_labels)\n",
    "\n",
    "\n",
    "            clf, y_mod_pred, _, check = check_trusted_items(X_train,y_train_mod,X_trust,y_trust, clf, \n",
    "                                                        \"Trusted clustering: %d\"%K, train_cluster_labels, \n",
    "                                                        trust_cluster_labels, plot=plot)\n",
    "            \n",
    "            evaluate_model(y_train,y_train_mod,y_mod_pred)\n",
    "\n",
    "    plt.show()"
   ]
  },
  {
   "cell_type": "markdown",
   "metadata": {},
   "source": [
    "# plotting"
   ]
  },
  {
   "cell_type": "code",
   "execution_count": 8,
   "metadata": {
    "collapsed": true
   },
   "outputs": [],
   "source": [
    "import numpy as np\n",
    "import matplotlib.pyplot as plt\n",
    "from sklearn.linear_model import LogisticRegression\n",
    "from sklearn.decomposition import PCA"
   ]
  },
  {
   "cell_type": "code",
   "execution_count": 9,
   "metadata": {
    "collapsed": true
   },
   "outputs": [],
   "source": [
    "# ----------------------------------------\n",
    "# For plotting data\n",
    "def plot_model(X_train, y_train, clf, X_trust=None, y_trust=None, title=None, \n",
    "\t\t\t\t\t\t\t\t\t\t\t\t\ttrain_cluster_labels=None, trust_cluster_labels=None):\n",
    "\t\n",
    "\tpca = PCA(n_components=2)\n",
    "\tX_train_2d = pca.fit_transform(X_train)\n",
    "\tX_trust_2d = pca.transform(X_trust)\n",
    "\n",
    "\t# X = np.zeros((10000,2))\n",
    "\t# a = np.linspace(0,1,100)\n",
    "\t# b = np.linspace(0,1,100)\n",
    "\t# e, d = np.meshgrid(a, b)\n",
    "\t# X[:,0] = np.reshape(e,(10000,))\n",
    "\t# X[:,1] = np.reshape(d,(10000,))\n",
    "\n",
    "\t# Z = clf.predict(X)\n",
    "\t# probs = clf.predict_proba(K)[:, 1].reshape(e.shape)\n",
    "\n",
    "\tplt.figure()\n",
    "\n",
    "\t# Put the result into a color plot\n",
    "\t# Z = Z.reshape(e.shape)\n",
    "\t# plt.contour(e, d, probs, levels=[0.5])\n",
    "\n",
    "\t# Plot clusters\n",
    "\tif train_cluster_labels is not None:\n",
    "\t\tif trust_cluster_labels is not None:\n",
    "\t\t\tcluster_labels = np.concatenate([train_cluster_labels,trust_cluster_labels])\n",
    "\t\t\tX = np.vstack([X_train_2d, X_trust_2d])\n",
    "\t\t\tplt.scatter(X[:, 0], X[:, 1], c=cluster_labels, marker='o', s=80)\n",
    "\t\telse:\n",
    "\t\t\tplt.scatter(X_train_2d[:, 0], X_train_2d[:, 1], c=train_cluster_labels, marker='o', s=80)\n",
    "\n",
    "\t# Plot the training points\n",
    "\tplt.scatter(X_train_2d[:, 0], X_train_2d[:, 1], c=y_train, cmap=plt.cm.Paired, marker='.')\n",
    "\t\n",
    "\t# Plot the trusted points\n",
    "\tif X_trust_2d is not None:\n",
    "\t\tplt.scatter(X_trust_2d[:, 0], X_trust_2d[:, 1], c=y_trust, cmap=plt.cm.Paired, marker='X')\n",
    "\n",
    "\tif title is not None:\n",
    "\t\tplt.title(str(title))\n",
    "\n",
    "\tplt.xlabel('x1')\n",
    "\tplt.ylabel('x2')\n",
    "\tplt.draw()"
   ]
  },
  {
   "cell_type": "markdown",
   "metadata": {},
   "source": [
    "# GermanLoan"
   ]
  },
  {
   "cell_type": "code",
   "execution_count": 10,
   "metadata": {
    "collapsed": true
   },
   "outputs": [],
   "source": [
    "import csv\n",
    "from sklearn.cluster import KMeans\n",
    "import numpy as np\n",
    "from sklearn.linear_model import LogisticRegression\n",
    "from sklearn.ensemble import AdaBoostClassifier\n",
    "from sklearn.metrics.pairwise import rbf_kernel\n",
    "import sys\n",
    "import pandas as pd\n",
    "from sklearn.preprocessing import StandardScaler"
   ]
  },
  {
   "cell_type": "code",
   "execution_count": 11,
   "metadata": {
    "scrolled": true
   },
   "outputs": [
    {
     "name": "stdout",
     "output_type": "stream",
     "text": [
      "Reading dataset...\n",
      "(1000, 25)\n",
      "(1000, 24) (1000,)\n"
     ]
    }
   ],
   "source": [
    "# read dataset\n",
    "col_names = ['Checking Status', 'Duration','Credit History', 'Credit Amt','Purpose', \n",
    "              'Saving acc', 'Present emp since', 'Installment Rate',\n",
    "             'Personal Status', 'Age', 'Other debtors', 'Present Residence since', 'Property',\n",
    "              'Other installment plans', 'Housing', 'Existing credits',\n",
    "             'Job', 'Num People', 'Telephone', 'Foreign Worker','a','b','c','d','Approval Status']\n",
    "\n",
    "numerical = ['Duration','Credit Amt','Age']\n",
    "\n",
    "print(\"Reading dataset...\")\n",
    "all_data = pd.read_csv(\"germanloan.csv\", names=col_names)\n",
    "print(all_data.shape)\n",
    "\n",
    "n = all_data.shape[0]\n",
    "X = all_data[all_data.columns.difference(['Approval Status'])]\n",
    "y = all_data['Approval Status']\n",
    "print(X.shape,y.shape)"
   ]
  },
  {
   "cell_type": "code",
   "execution_count": 12,
   "metadata": {},
   "outputs": [
    {
     "data": {
      "text/html": [
       "<div>\n",
       "<style scoped>\n",
       "    .dataframe tbody tr th:only-of-type {\n",
       "        vertical-align: middle;\n",
       "    }\n",
       "\n",
       "    .dataframe tbody tr th {\n",
       "        vertical-align: top;\n",
       "    }\n",
       "\n",
       "    .dataframe thead th {\n",
       "        text-align: right;\n",
       "    }\n",
       "</style>\n",
       "<table border=\"1\" class=\"dataframe\">\n",
       "  <thead>\n",
       "    <tr style=\"text-align: right;\">\n",
       "      <th></th>\n",
       "      <th>Checking Status</th>\n",
       "      <th>Duration</th>\n",
       "      <th>Credit History</th>\n",
       "      <th>Credit Amt</th>\n",
       "      <th>Purpose</th>\n",
       "      <th>Saving acc</th>\n",
       "      <th>Present emp since</th>\n",
       "      <th>Installment Rate</th>\n",
       "      <th>Personal Status</th>\n",
       "      <th>Age</th>\n",
       "      <th>...</th>\n",
       "      <th>Existing credits</th>\n",
       "      <th>Job</th>\n",
       "      <th>Num People</th>\n",
       "      <th>Telephone</th>\n",
       "      <th>Foreign Worker</th>\n",
       "      <th>a</th>\n",
       "      <th>b</th>\n",
       "      <th>c</th>\n",
       "      <th>d</th>\n",
       "      <th>Approval Status</th>\n",
       "    </tr>\n",
       "  </thead>\n",
       "  <tbody>\n",
       "    <tr>\n",
       "      <th>0</th>\n",
       "      <td>1</td>\n",
       "      <td>6</td>\n",
       "      <td>4</td>\n",
       "      <td>12</td>\n",
       "      <td>5</td>\n",
       "      <td>5</td>\n",
       "      <td>3</td>\n",
       "      <td>4</td>\n",
       "      <td>1</td>\n",
       "      <td>67</td>\n",
       "      <td>...</td>\n",
       "      <td>0</td>\n",
       "      <td>0</td>\n",
       "      <td>1</td>\n",
       "      <td>0</td>\n",
       "      <td>0</td>\n",
       "      <td>1</td>\n",
       "      <td>0</td>\n",
       "      <td>0</td>\n",
       "      <td>1</td>\n",
       "      <td>1</td>\n",
       "    </tr>\n",
       "    <tr>\n",
       "      <th>1</th>\n",
       "      <td>2</td>\n",
       "      <td>48</td>\n",
       "      <td>2</td>\n",
       "      <td>60</td>\n",
       "      <td>1</td>\n",
       "      <td>3</td>\n",
       "      <td>2</td>\n",
       "      <td>2</td>\n",
       "      <td>1</td>\n",
       "      <td>22</td>\n",
       "      <td>...</td>\n",
       "      <td>0</td>\n",
       "      <td>0</td>\n",
       "      <td>1</td>\n",
       "      <td>0</td>\n",
       "      <td>0</td>\n",
       "      <td>1</td>\n",
       "      <td>0</td>\n",
       "      <td>0</td>\n",
       "      <td>1</td>\n",
       "      <td>2</td>\n",
       "    </tr>\n",
       "    <tr>\n",
       "      <th>2</th>\n",
       "      <td>4</td>\n",
       "      <td>12</td>\n",
       "      <td>4</td>\n",
       "      <td>21</td>\n",
       "      <td>1</td>\n",
       "      <td>4</td>\n",
       "      <td>3</td>\n",
       "      <td>3</td>\n",
       "      <td>1</td>\n",
       "      <td>49</td>\n",
       "      <td>...</td>\n",
       "      <td>0</td>\n",
       "      <td>0</td>\n",
       "      <td>1</td>\n",
       "      <td>0</td>\n",
       "      <td>0</td>\n",
       "      <td>1</td>\n",
       "      <td>0</td>\n",
       "      <td>1</td>\n",
       "      <td>0</td>\n",
       "      <td>1</td>\n",
       "    </tr>\n",
       "    <tr>\n",
       "      <th>3</th>\n",
       "      <td>1</td>\n",
       "      <td>42</td>\n",
       "      <td>2</td>\n",
       "      <td>79</td>\n",
       "      <td>1</td>\n",
       "      <td>4</td>\n",
       "      <td>3</td>\n",
       "      <td>4</td>\n",
       "      <td>2</td>\n",
       "      <td>45</td>\n",
       "      <td>...</td>\n",
       "      <td>0</td>\n",
       "      <td>0</td>\n",
       "      <td>0</td>\n",
       "      <td>0</td>\n",
       "      <td>0</td>\n",
       "      <td>0</td>\n",
       "      <td>0</td>\n",
       "      <td>0</td>\n",
       "      <td>1</td>\n",
       "      <td>1</td>\n",
       "    </tr>\n",
       "    <tr>\n",
       "      <th>4</th>\n",
       "      <td>1</td>\n",
       "      <td>24</td>\n",
       "      <td>3</td>\n",
       "      <td>49</td>\n",
       "      <td>1</td>\n",
       "      <td>3</td>\n",
       "      <td>3</td>\n",
       "      <td>4</td>\n",
       "      <td>4</td>\n",
       "      <td>53</td>\n",
       "      <td>...</td>\n",
       "      <td>1</td>\n",
       "      <td>0</td>\n",
       "      <td>1</td>\n",
       "      <td>0</td>\n",
       "      <td>0</td>\n",
       "      <td>0</td>\n",
       "      <td>0</td>\n",
       "      <td>0</td>\n",
       "      <td>1</td>\n",
       "      <td>2</td>\n",
       "    </tr>\n",
       "  </tbody>\n",
       "</table>\n",
       "<p>5 rows × 25 columns</p>\n",
       "</div>"
      ],
      "text/plain": [
       "   Checking Status  Duration  Credit History  Credit Amt  Purpose  Saving acc  \\\n",
       "0                1         6               4          12        5           5   \n",
       "1                2        48               2          60        1           3   \n",
       "2                4        12               4          21        1           4   \n",
       "3                1        42               2          79        1           4   \n",
       "4                1        24               3          49        1           3   \n",
       "\n",
       "   Present emp since  Installment Rate  Personal Status  Age       ...         \\\n",
       "0                  3                 4                1   67       ...          \n",
       "1                  2                 2                1   22       ...          \n",
       "2                  3                 3                1   49       ...          \n",
       "3                  3                 4                2   45       ...          \n",
       "4                  3                 4                4   53       ...          \n",
       "\n",
       "   Existing credits  Job  Num People  Telephone  Foreign Worker  a  b  c  d  \\\n",
       "0                 0    0           1          0               0  1  0  0  1   \n",
       "1                 0    0           1          0               0  1  0  0  1   \n",
       "2                 0    0           1          0               0  1  0  1  0   \n",
       "3                 0    0           0          0               0  0  0  0  1   \n",
       "4                 1    0           1          0               0  0  0  0  1   \n",
       "\n",
       "   Approval Status  \n",
       "0                1  \n",
       "1                2  \n",
       "2                1  \n",
       "3                1  \n",
       "4                2  \n",
       "\n",
       "[5 rows x 25 columns]"
      ]
     },
     "execution_count": 12,
     "metadata": {},
     "output_type": "execute_result"
    }
   ],
   "source": [
    "all_data.head(5)"
   ]
  },
  {
   "cell_type": "code",
   "execution_count": 13,
   "metadata": {
    "collapsed": true
   },
   "outputs": [],
   "source": [
    "# Set 1=good, -1=bad in y\n",
    "y[y==2] = -1"
   ]
  },
  {
   "cell_type": "code",
   "execution_count": 15,
   "metadata": {},
   "outputs": [
    {
     "name": "stderr",
     "output_type": "stream",
     "text": [
      "/u/g/o/gouthamr/.local/lib/python3.6/site-packages/pandas/core/indexing.py:543: SettingWithCopyWarning: \n",
      "A value is trying to be set on a copy of a slice from a DataFrame.\n",
      "Try using .loc[row_indexer,col_indexer] = value instead\n",
      "\n",
      "See the caveats in the documentation: http://pandas.pydata.org/pandas-docs/stable/indexing.html#indexing-view-versus-copy\n",
      "  self.obj[item] = s\n"
     ]
    }
   ],
   "source": [
    "scaler = StandardScaler()\n",
    "X.loc[:,['Duration','Credit Amt']] = scaler.fit_transform(X.loc[:,['Duration','Credit Amt']].astype('float64'))"
   ]
  },
  {
   "cell_type": "code",
   "execution_count": 16,
   "metadata": {},
   "outputs": [
    {
     "name": "stdout",
     "output_type": "stream",
     "text": [
      "(190, 24) (810, 24)\n"
     ]
    }
   ],
   "source": [
    "# partition dataset on the basis of age, threshold = 25\n",
    "X_y = X[X['Age']<=25]\n",
    "X_o = X[X['Age']>25]\n",
    "y_y = y[X['Age']<=25]\n",
    "y_o = y[X['Age']>25]\n",
    "print(X_y.shape, X_o.shape)"
   ]
  },
  {
   "cell_type": "code",
   "execution_count": 17,
   "metadata": {},
   "outputs": [
    {
     "data": {
      "text/html": [
       "<div>\n",
       "<style scoped>\n",
       "    .dataframe tbody tr th:only-of-type {\n",
       "        vertical-align: middle;\n",
       "    }\n",
       "\n",
       "    .dataframe tbody tr th {\n",
       "        vertical-align: top;\n",
       "    }\n",
       "\n",
       "    .dataframe thead th {\n",
       "        text-align: right;\n",
       "    }\n",
       "</style>\n",
       "<table border=\"1\" class=\"dataframe\">\n",
       "  <thead>\n",
       "    <tr style=\"text-align: right;\">\n",
       "      <th></th>\n",
       "      <th>Age</th>\n",
       "      <th>Checking Status</th>\n",
       "      <th>Credit Amt</th>\n",
       "      <th>Credit History</th>\n",
       "      <th>Duration</th>\n",
       "      <th>Existing credits</th>\n",
       "      <th>Foreign Worker</th>\n",
       "      <th>Housing</th>\n",
       "      <th>Installment Rate</th>\n",
       "      <th>Job</th>\n",
       "      <th>...</th>\n",
       "      <th>Present Residence since</th>\n",
       "      <th>Present emp since</th>\n",
       "      <th>Property</th>\n",
       "      <th>Purpose</th>\n",
       "      <th>Saving acc</th>\n",
       "      <th>Telephone</th>\n",
       "      <th>a</th>\n",
       "      <th>b</th>\n",
       "      <th>c</th>\n",
       "      <th>d</th>\n",
       "    </tr>\n",
       "  </thead>\n",
       "  <tbody>\n",
       "    <tr>\n",
       "      <th>1</th>\n",
       "      <td>22</td>\n",
       "      <td>2</td>\n",
       "      <td>0.966377</td>\n",
       "      <td>2</td>\n",
       "      <td>2.248194</td>\n",
       "      <td>0</td>\n",
       "      <td>0</td>\n",
       "      <td>1</td>\n",
       "      <td>2</td>\n",
       "      <td>0</td>\n",
       "      <td>...</td>\n",
       "      <td>1</td>\n",
       "      <td>2</td>\n",
       "      <td>1</td>\n",
       "      <td>1</td>\n",
       "      <td>3</td>\n",
       "      <td>0</td>\n",
       "      <td>1</td>\n",
       "      <td>0</td>\n",
       "      <td>0</td>\n",
       "      <td>1</td>\n",
       "    </tr>\n",
       "    <tr>\n",
       "      <th>10</th>\n",
       "      <td>25</td>\n",
       "      <td>2</td>\n",
       "      <td>-0.698019</td>\n",
       "      <td>2</td>\n",
       "      <td>-0.738668</td>\n",
       "      <td>1</td>\n",
       "      <td>1</td>\n",
       "      <td>1</td>\n",
       "      <td>1</td>\n",
       "      <td>0</td>\n",
       "      <td>...</td>\n",
       "      <td>1</td>\n",
       "      <td>2</td>\n",
       "      <td>1</td>\n",
       "      <td>1</td>\n",
       "      <td>2</td>\n",
       "      <td>0</td>\n",
       "      <td>0</td>\n",
       "      <td>0</td>\n",
       "      <td>0</td>\n",
       "      <td>1</td>\n",
       "    </tr>\n",
       "  </tbody>\n",
       "</table>\n",
       "<p>2 rows × 24 columns</p>\n",
       "</div>"
      ],
      "text/plain": [
       "    Age  Checking Status  Credit Amt  Credit History  Duration  \\\n",
       "1    22                2    0.966377               2  2.248194   \n",
       "10   25                2   -0.698019               2 -0.738668   \n",
       "\n",
       "    Existing credits  Foreign Worker  Housing  Installment Rate  Job ...  \\\n",
       "1                  0               0        1                 2    0 ...   \n",
       "10                 1               1        1                 1    0 ...   \n",
       "\n",
       "    Present Residence since  Present emp since  Property  Purpose  Saving acc  \\\n",
       "1                         1                  2         1        1           3   \n",
       "10                        1                  2         1        1           2   \n",
       "\n",
       "    Telephone  a  b  c  d  \n",
       "1           0  1  0  0  1  \n",
       "10          0  0  0  0  1  \n",
       "\n",
       "[2 rows x 24 columns]"
      ]
     },
     "execution_count": 17,
     "metadata": {},
     "output_type": "execute_result"
    }
   ],
   "source": [
    "X_y.head(2)"
   ]
  },
  {
   "cell_type": "code",
   "execution_count": 18,
   "metadata": {},
   "outputs": [
    {
     "name": "stdout",
     "output_type": "stream",
     "text": [
      "(190, 23) (810, 23)\n"
     ]
    }
   ],
   "source": [
    "# Remove age as a feature\n",
    "del X_y['Age']\n",
    "del X_o['Age']\n",
    "\n",
    "print(X_y.shape, X_o.shape)"
   ]
  },
  {
   "cell_type": "code",
   "execution_count": null,
   "metadata": {
    "collapsed": true
   },
   "outputs": [],
   "source": []
  },
  {
   "cell_type": "code",
   "execution_count": 19,
   "metadata": {
    "collapsed": true
   },
   "outputs": [],
   "source": [
    "# Converting to numpy arrays\n",
    "X_young = X_y.values\n",
    "X_old = X_o.values\n",
    "y_young = y_y.values\n",
    "y_old = y_o.values"
   ]
  },
  {
   "cell_type": "code",
   "execution_count": 20,
   "metadata": {
    "scrolled": true
   },
   "outputs": [
    {
     "name": "stdout",
     "output_type": "stream",
     "text": [
      "(190, 23) (810, 23)\n"
     ]
    }
   ],
   "source": [
    "print(X_young.shape, X_old.shape)"
   ]
  },
  {
   "cell_type": "code",
   "execution_count": 21,
   "metadata": {
    "collapsed": true
   },
   "outputs": [],
   "source": [
    "# Random arrays for partitioning into A,B,C datasets\n",
    "np.random.seed(123)\n",
    "young = np.random.permutation(np.arange(X_young.shape[0]))\n",
    "old = np.random.permutation(np.arange(X_old.shape[0]))"
   ]
  },
  {
   "cell_type": "code",
   "execution_count": 22,
   "metadata": {},
   "outputs": [
    {
     "name": "stdout",
     "output_type": "stream",
     "text": [
      "Creating datasets A, B and C...\n"
     ]
    }
   ],
   "source": [
    "# --------------------------------------------------------------\n",
    "print(\"Creating datasets A, B and C...\")\n",
    "# Create dataset A (trusted dataset)\n",
    "X_A = np.concatenate((X_young[young[:20],:],X_old[old[:20],:]))\n",
    "y_A = np.concatenate((y_young[young[:20]],y_old[old[:20]]))\n",
    "# print(X_A.shape,y_A.shape)\n",
    "\n",
    "# Create dataset B (buggy dataset)\n",
    "X_B = np.concatenate((X_young[young[20:190],:],X_old[old[20:190],:]))\n",
    "y_B = np.concatenate((y_young[young[20:190]],y_old[old[20:190]]))\n",
    "# print(X_B.shape,y_B.shape)\n",
    "\n",
    "# Create dataset C (ground truth)\n",
    "X_C = X_old[old[190:],:]\n",
    "y_C = y_old[old[190:]]\n",
    "# print(X_C.shape,y_C.shape)"
   ]
  },
  {
   "cell_type": "code",
   "execution_count": 23,
   "metadata": {},
   "outputs": [
    {
     "name": "stdout",
     "output_type": "stream",
     "text": [
      "Training Model on dataset C...\n",
      "Creating trusted labels for dataset A...\n",
      "Number of label changes made in Dataset A to make it trusted: 12\n"
     ]
    }
   ],
   "source": [
    "# --------------------------------------------------------------\n",
    "print(\"Training Model on dataset C...\")\n",
    "\n",
    "# the learner is hard coded to be logistic regression\n",
    "lam = 5e-3\t# L2 regularization weight of learner\n",
    "# Training model f* on dataset C\n",
    "clf = LogisticRegression(solver='lbfgs', C=lam)\n",
    "\n",
    "# clf = AdaBoostClassifier()\n",
    "\n",
    "\n",
    "clf.fit(X_C, y_C)\n",
    "y_C_pred = clf.predict(X_C)\n",
    "\n",
    "print(\"Creating trusted labels for dataset A...\")\n",
    "y_A_pred = clf.predict(X_A)\n",
    "\n",
    "print(\"Number of label changes made in Dataset A to make it trusted: %d\"%np.count_nonzero(y_A-y_A_pred)),\"\\n\"\n",
    "y_A = y_A_pred"
   ]
  },
  {
   "cell_type": "code",
   "execution_count": 41,
   "metadata": {
    "collapsed": true
   },
   "outputs": [],
   "source": [
    "max_changes = 100\n",
    "try_all_combos = False\n",
    "plot = True\n",
    "min_K = 5\n",
    "max_K = 10\n",
    "cluster_with_labels = False\n",
    "cluster_with_labels = True\n",
    "model = \"KMeans\"\n",
    "model = \"Agg\""
   ]
  },
  {
   "cell_type": "code",
   "execution_count": 1,
   "metadata": {
    "scrolled": true
   },
   "outputs": [
    {
     "ename": "NameError",
     "evalue": "name 'cluster_data' is not defined",
     "output_type": "error",
     "traceback": [
      "\u001b[0;31m---------------------------------------------------------------------------\u001b[0m",
      "\u001b[0;31mNameError\u001b[0m                                 Traceback (most recent call last)",
      "\u001b[0;32m<ipython-input-1-0a6f542635b4>\u001b[0m in \u001b[0;36m<module>\u001b[0;34m()\u001b[0m\n\u001b[1;32m      2\u001b[0m \u001b[0;31m# Experimenting with clustering\u001b[0m\u001b[0;34m\u001b[0m\u001b[0;34m\u001b[0m\u001b[0m\n\u001b[1;32m      3\u001b[0m \u001b[0;34m\u001b[0m\u001b[0m\n\u001b[0;32m----> 4\u001b[0;31m cluster_data(X_B, y_B, X_A, y_A, clf, min_K=min_K, max_K=max_K, \n\u001b[0m\u001b[1;32m      5\u001b[0m              \u001b[0mmax_changes\u001b[0m\u001b[0;34m=\u001b[0m\u001b[0mmax_changes\u001b[0m\u001b[0;34m,\u001b[0m\u001b[0mtry_all_combos\u001b[0m\u001b[0;34m=\u001b[0m\u001b[0mtry_all_combos\u001b[0m\u001b[0;34m,\u001b[0m \u001b[0mplot\u001b[0m\u001b[0;34m=\u001b[0m\u001b[0mplot\u001b[0m\u001b[0;34m,\u001b[0m\u001b[0;34m\u001b[0m\u001b[0m\n\u001b[1;32m      6\u001b[0m              cluster_with_labels=cluster_with_labels, model=model)\n",
      "\u001b[0;31mNameError\u001b[0m: name 'cluster_data' is not defined"
     ]
    }
   ],
   "source": [
    "# --------------------------------------------------------------\n",
    "# Experimenting with clustering\n",
    "\n",
    "cluster_data(X_B, y_B, X_A, y_A, clf, min_K=min_K, max_K=max_K, \n",
    "             max_changes=max_changes,try_all_combos=try_all_combos, plot=plot, \n",
    "             cluster_with_labels=cluster_with_labels, model=model)"
   ]
  },
  {
   "cell_type": "code",
   "execution_count": null,
   "metadata": {
    "collapsed": true
   },
   "outputs": [],
   "source": []
  }
 ],
 "metadata": {
  "kernelspec": {
   "display_name": "Python 3",
   "language": "python",
   "name": "python3"
  },
  "language_info": {
   "codemirror_mode": {
    "name": "ipython",
    "version": 3
   },
   "file_extension": ".py",
   "mimetype": "text/x-python",
   "name": "python",
   "nbconvert_exporter": "python",
   "pygments_lexer": "ipython3",
   "version": "3.6.6"
  }
 },
 "nbformat": 4,
 "nbformat_minor": 2
}
