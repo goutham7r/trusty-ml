{
 "cells": [
  {
   "cell_type": "code",
   "execution_count": 1,
   "metadata": {},
   "outputs": [],
   "source": [
    "%load_ext autoreload\n",
    "%autoreload 2\n",
    "%matplotlib inline"
   ]
  },
  {
   "cell_type": "code",
   "execution_count": 2,
   "metadata": {},
   "outputs": [],
   "source": [
    "import tensorflow as tf\n",
    "from my_ddpg import main"
   ]
  },
  {
   "cell_type": "code",
   "execution_count": 3,
   "metadata": {},
   "outputs": [
    {
     "data": {
      "application/vnd.jupyter.widget-view+json": {
       "model_id": "9f51ced591a143ecb8073741eff21d84",
       "version_major": 2,
       "version_minor": 0
      },
      "text/plain": [
       "HBox(children=(IntProgress(value=0, max=1000), HTML(value='')))"
      ]
     },
     "metadata": {},
     "output_type": "display_data"
    },
    {
     "name": "stdout",
     "output_type": "stream",
     "text": [
      "\n",
      "Done training\n",
      "[-0.9999987  0.         0.       ] : Age : -11.369764508168776\n",
      "Credit Amt : 0.0\n",
      "Duration : 0.0\n",
      "[-0.9999984  0.         0.       ] : Age : -11.369761119710459\n",
      "Credit Amt : 0.0\n",
      "Duration : 0.0\n"
     ]
    }
   ],
   "source": [
    "from germanloanworld import GermanLoanWorld\n",
    "\n",
    "tf.reset_default_graph()\n",
    "\n",
    "args = {}\n",
    "args['actor_lr'] = 0.0001\n",
    "args['critic_lr'] = 0.001\n",
    "args['gamma'] = 0.99\n",
    "args['tau'] = 0.001\n",
    "args['buffer_size'] = 5000\n",
    "args['minibatch_size'] = 64\n",
    "args['max_episodes'] = 1000\n",
    "args['max_episode_len'] = 1000\n",
    "args['random_seed'] = 1234\n",
    "args['summary_dir'] = './results/tf_ddpg'\n",
    "\n",
    "args['env'] = GermanLoanWorld()\n",
    "\n",
    "main(args)"
   ]
  },
  {
   "cell_type": "code",
   "execution_count": null,
   "metadata": {},
   "outputs": [],
   "source": []
  },
  {
   "cell_type": "code",
   "execution_count": null,
   "metadata": {},
   "outputs": [],
   "source": []
  }
 ],
 "metadata": {
  "kernelspec": {
   "display_name": "Python 3",
   "language": "python",
   "name": "python3"
  },
  "language_info": {
   "codemirror_mode": {
    "name": "ipython",
    "version": 3
   },
   "file_extension": ".py",
   "mimetype": "text/x-python",
   "name": "python",
   "nbconvert_exporter": "python",
   "pygments_lexer": "ipython3",
   "version": "3.6.1"
  }
 },
 "nbformat": 4,
 "nbformat_minor": 2
}
