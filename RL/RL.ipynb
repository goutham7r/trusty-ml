{
 "cells": [
  {
   "cell_type": "code",
   "execution_count": 1,
   "metadata": {},
   "outputs": [],
   "source": [
    "%load_ext autoreload\n",
    "%autoreload 2\n",
    "%matplotlib inline"
   ]
  },
  {
   "cell_type": "code",
   "execution_count": 72,
   "metadata": {},
   "outputs": [],
   "source": [
    "import tensorflow as tf\n",
    "import numpy as np\n",
    "import sys, os\n",
    "import time"
   ]
  },
  {
   "cell_type": "code",
   "execution_count": 7,
   "metadata": {},
   "outputs": [],
   "source": [
    "from my_ddpg import main"
   ]
  },
  {
   "cell_type": "code",
   "execution_count": null,
   "metadata": {},
   "outputs": [],
   "source": []
  },
  {
   "cell_type": "code",
   "execution_count": null,
   "metadata": {},
   "outputs": [],
   "source": []
  },
  {
   "cell_type": "code",
   "execution_count": 68,
   "metadata": {},
   "outputs": [],
   "source": [
    "from germanloanworld import GermanLoanWorld"
   ]
  },
  {
   "cell_type": "code",
   "execution_count": 74,
   "metadata": {},
   "outputs": [],
   "source": [
    "gl_count = 0"
   ]
  },
  {
   "cell_type": "code",
   "execution_count": 77,
   "metadata": {
    "scrolled": true
   },
   "outputs": [
    {
     "name": "stderr",
     "output_type": "stream",
     "text": [
      "gl_1.txt"
     ]
    },
    {
     "data": {
      "application/vnd.jupyter.widget-view+json": {
       "model_id": "2f7ca0eacdc849bdb72c38183a99f86c",
       "version_major": 2,
       "version_minor": 0
      },
      "text/plain": [
       "HBox(children=(IntProgress(value=0, max=5000), HTML(value='')))"
      ]
     },
     "metadata": {},
     "output_type": "display_data"
    }
   ],
   "source": [
    "start = time.time()\n",
    "\n",
    "dir_name = \"results\"\n",
    "filename = \"gl_%d.txt\"%gl_count\n",
    "f = open(os.path.join(dir_name, filename), \"w\")\n",
    "sys.stdout = f\n",
    "\n",
    "tf.reset_default_graph()\n",
    "\n",
    "actions = {}\n",
    "actions['Age'] = {'step_range':[0,5], 'max_change':[0,10]}\n",
    "actions['Credit Amt'] = {'step_range':[-3000,3000], 'max_change':[-5000,5000]}\n",
    "actions['Duration'] = {'step_range':[-3,3], 'max_change':[-10,10]}\n",
    "\n",
    "env = GermanLoanWorld(actions=actions)\n",
    "\n",
    "args = {}\n",
    "args['actor_lr'] = 0.001\n",
    "args['critic_lr'] = 0.01\n",
    "args['gamma'] = 0.95\n",
    "args['tau'] = 0.01\n",
    "args['buffer_size'] = 5000\n",
    "args['minibatch_size'] = 25\n",
    "args['max_episodes'] = 5000\n",
    "args['max_episode_len'] = 50\n",
    "args['random_seed'] = 123\n",
    "args['max_final_steps'] = 50\n",
    "args['summary_dir'] = './results/tf_ddpg'\n",
    "\n",
    "args['env'] = env\n",
    "\n",
    "sys.stderr.write(filename)\n",
    "\n",
    "print(args, \"\\n\\n\")\n",
    "main(args)\n",
    "\n",
    "print(\"Time taken:\", time.strftime(\"%H:%M:%S\", time.gmtime(time.time()-start)))\n",
    "gl_count += 1\n",
    "sys.stdout.flush()\n",
    "sys.stdout = sys.__stdout__"
   ]
  },
  {
   "cell_type": "code",
   "execution_count": null,
   "metadata": {},
   "outputs": [],
   "source": []
  },
  {
   "cell_type": "code",
   "execution_count": null,
   "metadata": {},
   "outputs": [],
   "source": []
  },
  {
   "cell_type": "markdown",
   "metadata": {},
   "source": [
    "With Stepsize = MaxDiff: [-5, 10], [-5000, 5000], [-10, 10] B=3\n",
    "\n",
    "    Final State: \n",
    "    Age:24.001 | Credit Amt:3257.811 | Duration:21.973 | \n",
    "    Total Reward: 143.74275303286223\n",
    "    \n",
    "With stepsize=[-1, 1], [-500, 500], [-1, 1], maxdiff = above, B=3    \n",
    "\n",
    "    Final State: \n",
    "    Age:24.000 | Credit Amt:3305.176 | Duration:24.973 | \n",
    "    Total Reward: 152.21581902774156"
   ]
  },
  {
   "cell_type": "code",
   "execution_count": null,
   "metadata": {},
   "outputs": [],
   "source": []
  },
  {
   "cell_type": "code",
   "execution_count": 24,
   "metadata": {},
   "outputs": [],
   "source": []
  },
  {
   "cell_type": "code",
   "execution_count": 30,
   "metadata": {},
   "outputs": [],
   "source": [
    "from harrypotterworld import HarryPotterWorld"
   ]
  },
  {
   "cell_type": "code",
   "execution_count": 48,
   "metadata": {},
   "outputs": [],
   "source": [
    "hp_count = 0"
   ]
  },
  {
   "cell_type": "code",
   "execution_count": 73,
   "metadata": {
    "scrolled": true
   },
   "outputs": [
    {
     "data": {
      "application/vnd.jupyter.widget-view+json": {
       "model_id": "f7d555ebbd334d0cb578e5966f5382fc",
       "version_major": 2,
       "version_minor": 0
      },
      "text/plain": [
       "HBox(children=(IntProgress(value=0, max=125), HTML(value='')))"
      ]
     },
     "metadata": {},
     "output_type": "display_data"
    }
   ],
   "source": [
    "start = time.time()\n",
    "\n",
    "dir_name = \"results\"\n",
    "filename = \"hp_%d.txt\"%hp_count\n",
    "f = open(os.path.join(dir_name, filename), \"w\")\n",
    "sys.stdout = f\n",
    "\n",
    "actions = {}\n",
    "actions['x2'] = {'step_range':[0,0.05], 'max_change':[0,0.4]}\n",
    "\n",
    "env = HarryPotterWorld(actions=actions)\n",
    "# env.plot_model()\n",
    "\n",
    "tf.reset_default_graph()\n",
    "\n",
    "args = {}\n",
    "args['actor_lr'] = 0.001\n",
    "args['critic_lr'] = 0.01\n",
    "args['gamma'] = 0.95\n",
    "args['tau'] = 0.01\n",
    "args['buffer_size'] = 5000\n",
    "args['minibatch_size'] = 25\n",
    "args['max_episodes'] = 125\n",
    "args['max_episode_len'] = 50\n",
    "args['random_seed'] = 123\n",
    "args['max_final_steps'] = 50\n",
    "args['summary_dir'] = './results/tf_ddpg'\n",
    "\n",
    "args['env'] = env\n",
    "\n",
    "print(args, \"\\n\\n\")\n",
    "\n",
    "main(args)\n",
    "print(\"Time taken:\", time.strftime(\"%H:%M:%S\", time.gmtime(time.time()-start)))\n",
    "\n",
    "hp_count += 1\n",
    "sys.stdout.flush()\n",
    "sys.stdout = sys.__stdout__"
   ]
  },
  {
   "cell_type": "code",
   "execution_count": null,
   "metadata": {},
   "outputs": [],
   "source": []
  },
  {
   "cell_type": "code",
   "execution_count": null,
   "metadata": {},
   "outputs": [],
   "source": []
  },
  {
   "cell_type": "code",
   "execution_count": null,
   "metadata": {},
   "outputs": [],
   "source": []
  },
  {
   "cell_type": "code",
   "execution_count": null,
   "metadata": {},
   "outputs": [],
   "source": []
  },
  {
   "cell_type": "code",
   "execution_count": null,
   "metadata": {},
   "outputs": [],
   "source": []
  }
 ],
 "metadata": {
  "kernelspec": {
   "display_name": "Python 3",
   "language": "python",
   "name": "python3"
  },
  "language_info": {
   "codemirror_mode": {
    "name": "ipython",
    "version": 3
   },
   "file_extension": ".py",
   "mimetype": "text/x-python",
   "name": "python",
   "nbconvert_exporter": "python",
   "pygments_lexer": "ipython3",
   "version": "3.6.1"
  }
 },
 "nbformat": 4,
 "nbformat_minor": 2
}
